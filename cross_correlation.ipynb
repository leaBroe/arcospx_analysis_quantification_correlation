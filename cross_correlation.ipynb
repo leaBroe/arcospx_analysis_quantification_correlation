{
 "cells": [
  {
   "cell_type": "markdown",
   "source": [
    "# Cross Correlation of Actin and Myosin Channels"
   ],
   "metadata": {
    "collapsed": false
   },
   "id": "ddc1090d8ed30bef"
  },
  {
   "cell_type": "code",
   "execution_count": null,
   "outputs": [],
   "source": [
    "import numpy as np\n",
    "import pandas as pd\n",
    "import matplotlib.pyplot as plt\n",
    "from scipy import ndimage\n",
    "from skimage.morphology import closing\n",
    "from arcos4py.tools import track_events_image, remove_image_background\n",
    "from arcos4py.tools._detect_events import upscale_image\n",
    "from arcos4py.tools._cleandata import blockwise_median\n",
    "from skimage import io, exposure\n",
    "from scipy.ndimage import distance_transform_edt\n",
    "import napari\n",
    "from skimage.filters import gaussian"
   ],
   "metadata": {
    "collapsed": false
   },
   "id": "d699e8482c9d0b48"
  },
  {
   "cell_type": "code",
   "execution_count": null,
   "outputs": [],
   "source": [
    "from cellpose import models"
   ],
   "metadata": {
    "collapsed": false
   },
   "id": "28f67eaa5db53ccd"
  },
  {
   "cell_type": "code",
   "execution_count": null,
   "outputs": [],
   "source": [
    "def drop_scattered_small_labels(label_image, min_size=100):\n",
    "    \"\"\"\n",
    "    Removes small scattered regions of each label from a labeled image.\n",
    "\n",
    "    Parameters:\n",
    "    - label_image: 2D numpy array representing the labeled image.\n",
    "    - min_size: Minimum pixel size for keeping a scattered part of a label.\n",
    "\n",
    "    Returns:\n",
    "    - Processed image with small scattered labels dropped.\n",
    "    \"\"\"\n",
    "    label_image = closing(label_image)\n",
    "    unique_labels = np.unique(label_image)\n",
    "    output_image = np.zeros_like(label_image)\n",
    "\n",
    "    for label in unique_labels:\n",
    "        if label == 0:  # Assuming 0 is the background\n",
    "            continue\n",
    "\n",
    "        # Create a binary image for the current label\n",
    "        binary_mask = label_image == label\n",
    "\n",
    "        # Identify separate regions of the current label\n",
    "        labeled_mask, num_features = ndimage.label(binary_mask)\n",
    "\n",
    "        # Measure the size of each region\n",
    "        sizes = ndimage.sum(binary_mask, labeled_mask, range(num_features + 1))\n",
    "\n",
    "        # Create a mask of regions to be kept for the current label\n",
    "        mask_size = sizes >= min_size\n",
    "        keep = mask_size[labeled_mask]\n",
    "\n",
    "        # Update the output image with regions of the current label that are kept\n",
    "        output_image[keep] = label\n",
    "\n",
    "    return output_image\n",
    "\n",
    "\n",
    "def process_time_series_label_images(time_series_label_images, min_size=100):\n",
    "    \"\"\"\n",
    "    Processes a time-series of label images by removing small scattered labels.\n",
    "\n",
    "    Parameters:\n",
    "    - time_series_label_images: 3D numpy array representing a time-series of labeled images.\n",
    "      The first dimension is time.\n",
    "    - min_size: Minimum pixel size for keeping a scattered part of a label.\n",
    "\n",
    "    Returns:\n",
    "    - Processed time-series with small scattered labels dropped from each frame.\n",
    "    \"\"\"\n",
    "\n",
    "    # Get the number of time points\n",
    "    T = time_series_label_images.shape[0]\n",
    "\n",
    "    # Initialize an output array of the same shape as the input\n",
    "    output_images = np.zeros_like(time_series_label_images)\n",
    "\n",
    "    for t in range(T):\n",
    "        output_images[t] = drop_scattered_small_labels(time_series_label_images[t], min_size=min_size)\n",
    "\n",
    "    return output_images\n",
    "\n",
    "\n",
    "def match_histogram(source, template):\n",
    "    hist_source, bin_edges = np.histogram(source.ravel(), bins=65536, range=(0, 65536))\n",
    "    hist_template, _ = np.histogram(template.ravel(), bins=65536, range=(0, 65536))\n",
    "\n",
    "    cdf_source = hist_source.cumsum() / hist_source.sum()\n",
    "    cdf_template = hist_template.cumsum() / hist_template.sum()\n",
    "\n",
    "    lookup_table = np.zeros(65536, dtype=np.uint16)\n",
    "    j = 0\n",
    "    for i in range(65536):\n",
    "        while cdf_template[j] < cdf_source[i] and j < 65535:\n",
    "            j += 1\n",
    "        lookup_table[i] = j\n",
    "\n",
    "    matched = lookup_table[source]\n",
    "    return matched\n",
    "\n",
    "\n",
    "def match_histogram_stack(img_stack, template):\n",
    "    matched_stack = np.zeros_like(img_stack)\n",
    "    for i in range(img_stack.shape[0]):\n",
    "        matched_stack[i] = match_histogram(img_stack[i], template)\n",
    "    return matched_stack\n",
    "\n",
    "def filter_by_duration(labeled_stack, min_duration):\n",
    "    \"\"\"\n",
    "    Removes tracks from a labeled image stack if their duration is less than the specified minimum.\n",
    "    \"\"\"\n",
    "    labeled_stack = np.copy(labeled_stack)\n",
    "\n",
    "    unique_labels = np.unique(labeled_stack)[1:]  # Exclude background (label 0)\n",
    "\n",
    "    for label in unique_labels:\n",
    "        # Get the coordinates of all pixels belonging to the current label (track) for each time point\n",
    "        time_points = np.unique(np.where(labeled_stack == label)[0])\n",
    "\n",
    "        # If the duration is less than min_duration, remove the track\n",
    "        if len(time_points) < min_duration:\n",
    "            labeled_stack[labeled_stack == label] = 0\n",
    "\n",
    "    return labeled_stack"
   ],
   "metadata": {
    "collapsed": false
   },
   "id": "ae9f4d56adba16d2"
  },
  {
   "cell_type": "code",
   "execution_count": null,
   "outputs": [],
   "source": [
    "unstable_fibres = io.imread(\"transfer_187559_files_94515bab/lifeact_myosin_rgbd7_w15TIRF-GFP_s1_t1.TIF_-_Stage1__Position_11_.tiff\")\n",
    "stable_fibres = io.imread(\"transfer_187559_files_94515bab/lifeact_myosin_rgbd7_w15TIRF-GFP_s1_t1.TIF_-_Stage2__Position_12_.tiff\")"
   ],
   "metadata": {
    "collapsed": false
   },
   "id": "52ac184f7154a1a4"
  },
  {
   "cell_type": "code",
   "execution_count": null,
   "outputs": [],
   "source": [
    "from tqdm.auto import tqdm\n",
    "\n",
    "myosin_bl = []\n",
    "rGBD_bl = []\n",
    "actin_bl = []\n",
    "\n",
    "myosin = stable_fibres[..., 1]\n",
    "rGBD = stable_fibres[..., 2]\n",
    "actin = stable_fibres[..., 0]\n",
    "reference_myosin = myosin[0]\n",
    "reference_rGBD = rGBD[0]\n",
    "reference_actin = actin[0]\n",
    "myosin_bl.append(np.stack([match_histogram(img, reference_myosin) for img in tqdm(myosin)]))\n",
    "rGBD_bl.append(np.stack([match_histogram(img, reference_rGBD) for img in tqdm(rGBD)]))\n",
    "actin_bl.append(np.stack([match_histogram(img, reference_actin) for img in tqdm(actin)]))\n",
    "myosin_bl = np.concatenate(myosin_bl)\n",
    "rGBD_bl = np.concatenate(rGBD_bl)\n",
    "actin_bl = np.concatenate(actin_bl)"
   ],
   "metadata": {
    "collapsed": false
   },
   "id": "d5c6820783db94f7"
  },
  {
   "cell_type": "code",
   "execution_count": null,
   "outputs": [],
   "source": [
    "binned_actin = blockwise_median(actin, (1, 3, 3))"
   ],
   "metadata": {
    "collapsed": false
   },
   "id": "c7ab2264e7c226ff"
  },
  {
   "cell_type": "code",
   "execution_count": null,
   "outputs": [],
   "source": [
    "model = models.Cellpose(gpu=True, model_type=\"cyto2\")"
   ],
   "metadata": {
    "collapsed": false
   },
   "id": "3f3d37c84d700340"
  },
  {
   "cell_type": "code",
   "execution_count": null,
   "outputs": [],
   "source": [
    "seg_cp = np.zeros_like(binned_actin)"
   ],
   "metadata": {
    "collapsed": false
   },
   "id": "99aef3cf539a0994"
  },
  {
   "cell_type": "code",
   "execution_count": null,
   "outputs": [],
   "source": [
    "for idx, img in enumerate(binned_actin):\n",
    "    masks, flows, styles, diams = model.eval(img, diameter=60, channels=[0, 0], do_3D=False, net_avg=True)\n",
    "    seg_cp[idx] = masks"
   ],
   "metadata": {
    "collapsed": false
   },
   "id": "7c666dfdea420312"
  },
  {
   "cell_type": "code",
   "execution_count": null,
   "outputs": [],
   "source": [
    "dist_transform = []\n",
    "for i in seg_cp:\n",
    "    dist_transform.append(distance_transform_edt(i).astype(np.uint16))\n",
    "\n",
    "dist_transform = np.stack(dist_transform)\n",
    "viewer = napari.Viewer()\n",
    "viewer.add_image(dist_transform)"
   ],
   "metadata": {
    "collapsed": false
   },
   "id": "6106e1cb6b05d981"
  },
  {
   "cell_type": "code",
   "execution_count": null,
   "outputs": [],
   "source": [
    "actin_bg = remove_image_background(binned_actin, size=(100, 1, 1), filter_type=\"median\", crop_time_axis=True)\n",
    "actin_bg = np.where(actin_bg < 0, 0, actin_bg)"
   ],
   "metadata": {
    "collapsed": false
   },
   "id": "200044a36fb1bb13"
  },
  {
   "cell_type": "code",
   "execution_count": null,
   "outputs": [],
   "source": [
    "test = gaussian(actin_bg, sigma=1)"
   ],
   "metadata": {
    "collapsed": false
   },
   "id": "505e6cd97ecfe309"
  },
  {
   "cell_type": "code",
   "execution_count": null,
   "outputs": [],
   "source": [
    "test_no_edge = np.where((dist_transform[50:-50] < 5), 0, test)"
   ],
   "metadata": {
    "collapsed": false
   },
   "id": "9ae6db16b08846ca"
  },
  {
   "cell_type": "code",
   "execution_count": null,
   "outputs": [],
   "source": [
    "events_1 = track_events_image(test_no_edge > 40, eps=3, epsPrev=3, minClSz=8, predictor=True, nPrev=3, downsample=1)"
   ],
   "metadata": {
    "collapsed": false
   },
   "id": "81eb25abedf14c7c"
  },
  {
   "cell_type": "code",
   "execution_count": null,
   "outputs": [],
   "source": [
    "events_1_filtered = process_time_series_label_images(events_1, 5)\n",
    "events_1_filtered = filter_by_duration(events_1_filtered, 10)"
   ],
   "metadata": {
    "collapsed": false
   },
   "id": "cd23ea4c2a964056"
  },
  {
   "cell_type": "code",
   "execution_count": null,
   "outputs": [],
   "source": [
    "events_upscaled = []\n",
    "for t in events_1_filtered:\n",
    "    t_img = upscale_image(t, 3)\n",
    "    events_upscaled.append(t_img)\n",
    "\n",
    "events_upscaled = np.stack(events_upscaled)"
   ],
   "metadata": {
    "collapsed": false
   },
   "id": "4b3b009161ab1032"
  },
  {
   "cell_type": "code",
   "execution_count": null,
   "outputs": [],
   "source": [
    "df_all = []\n",
    "\n",
    "middle_frame = 193\n",
    "label_image = events_upscaled[middle_frame] == 60\n",
    "min_frame_range = middle_frame - 50\n",
    "max_frame_range = middle_frame + 50\n",
    "intensity_image = reshaped_stable_fibres[min_frame_range:max_frame_range]\n",
    "for idx, e in enumerate(intensity_image):\n",
    "    props = regionprops_table(label_image.astype(int), properties=(\"label\", \"area\", \"centroid\", 'intensity_mean'), intensity_image=e[:, :1160])\n",
    "    df_temp = pd.DataFrame(props)\n",
    "    df_temp[\"frame\"] = idx -10\n",
    "    df_all.append(df_temp)\n",
    "\n",
    "df_all_concat = pd.concat(df_all)"
   ],
   "metadata": {
    "collapsed": false
   },
   "id": "78845137a600892f"
  }
 ],
 "metadata": {
  "kernelspec": {
   "display_name": "Python 3",
   "language": "python",
   "name": "python3"
  },
  "language_info": {
   "codemirror_mode": {
    "name": "ipython",
    "version": 2
   },
   "file_extension": ".py",
   "mimetype": "text/x-python",
   "name": "python",
   "nbconvert_exporter": "python",
   "pygments_lexer": "ipython2",
   "version": "2.7.6"
  }
 },
 "nbformat": 4,
 "nbformat_minor": 5
}
