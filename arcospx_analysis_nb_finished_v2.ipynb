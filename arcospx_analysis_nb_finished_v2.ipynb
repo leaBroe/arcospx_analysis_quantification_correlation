{
 "cells": [
  {
   "cell_type": "code",
   "execution_count": 8,
   "metadata": {
    "ExecuteTime": {
     "end_time": "2023-12-04T15:49:01.513311Z",
     "start_time": "2023-12-04T15:48:58.816865Z"
    }
   },
   "outputs": [],
   "source": [
    "from arcos4py.tools import track_events_image, remove_image_background\n",
    "from arcos4py.tools._detect_events import upscale_image\n",
    "from arcos4py.tools._cleandata import blockwise_median\n",
    "import pandas as pd\n",
    "import numpy as np\n",
    "import matplotlib.pyplot as plt\n",
    "from napari.viewer import Viewer\n",
    "from skimage import io\n",
    "import napari\n",
    "from scipy.ndimage import distance_transform_edt"
   ]
  },
  {
   "cell_type": "code",
   "execution_count": 9,
   "metadata": {
    "ExecuteTime": {
     "end_time": "2023-12-04T15:49:01.580021Z",
     "start_time": "2023-12-04T15:49:01.510995Z"
    }
   },
   "outputs": [],
   "source": [
    "import numpy as np\n",
    "from scipy.ndimage import binary_dilation, binary_fill_holes, binary_erosion\n",
    "from skimage.morphology import erosion, remove_small_objects, square\n",
    "import numpy as np\n",
    "import matplotlib.pyplot as plt\n",
    "from scipy.optimize import curve_fit\n",
    "from skimage import io\n",
    "import numpy as np\n",
    "from skimage import io, exposure\n",
    "\n",
    "import numpy as np\n",
    "from scipy import ndimage\n",
    "from skimage.morphology import closing\n",
    "\n",
    "import numpy as np\n",
    "from statsmodels.nonparametric.smoothers_lowess import lowess\n",
    "\n",
    "import numpy as np\n",
    "from scipy.signal import savgol_filter\n",
    "\n",
    "\n",
    "def drop_scattered_small_labels(label_image, min_size=100):\n",
    "    \"\"\"\n",
    "    Removes small scattered regions of each label from a labeled image.\n",
    "\n",
    "    Parameters:\n",
    "    - label_image: 2D numpy array representing the labeled image.\n",
    "    - min_size: Minimum pixel size for keeping a scattered part of a label.\n",
    "\n",
    "    Returns:\n",
    "    - Processed image with small scattered labels dropped.\n",
    "    \"\"\"\n",
    "    label_image = closing(label_image)\n",
    "    unique_labels = np.unique(label_image)\n",
    "    output_image = np.zeros_like(label_image)\n",
    "\n",
    "    for label in unique_labels:\n",
    "        if label == 0:  # Assuming 0 is the background\n",
    "            continue\n",
    "\n",
    "        # Create a binary image for the current label\n",
    "        binary_mask = label_image == label\n",
    "\n",
    "        # Identify separate regions of the current label\n",
    "        labeled_mask, num_features = ndimage.label(binary_mask)\n",
    "\n",
    "        # Measure the size of each region\n",
    "        sizes = ndimage.sum(binary_mask, labeled_mask, range(num_features + 1))\n",
    "\n",
    "        # Create a mask of regions to be kept for the current label\n",
    "        mask_size = sizes >= min_size\n",
    "        keep = mask_size[labeled_mask]\n",
    "\n",
    "        # Update the output image with regions of the current label that are kept\n",
    "        output_image[keep] = label\n",
    "\n",
    "    return output_image\n",
    "\n",
    "\n",
    "def process_time_series_label_images(time_series_label_images, min_size=100):\n",
    "    \"\"\"\n",
    "    Processes a time-series of label images by removing small scattered labels.\n",
    "\n",
    "    Parameters:\n",
    "    - time_series_label_images: 3D numpy array representing a time-series of labeled images.\n",
    "      The first dimension is time.\n",
    "    - min_size: Minimum pixel size for keeping a scattered part of a label.\n",
    "\n",
    "    Returns:\n",
    "    - Processed time-series with small scattered labels dropped from each frame.\n",
    "    \"\"\"\n",
    "\n",
    "    # Get the number of time points\n",
    "    T = time_series_label_images.shape[0]\n",
    "\n",
    "    # Initialize an output array of the same shape as the input\n",
    "    output_images = np.zeros_like(time_series_label_images)\n",
    "\n",
    "    for t in range(T):\n",
    "        output_images[t] = drop_scattered_small_labels(time_series_label_images[t], min_size=min_size)\n",
    "\n",
    "    return output_images\n",
    "\n",
    "\n",
    "def filter_by_centroid_displacement(labeled_stack, min_distance):\n",
    "    \"\"\"\n",
    "    Removes tracks from a labeled image stack if the total displacement of their centroid\n",
    "    is less than the specified minimum distance.\n",
    "    \"\"\"\n",
    "    labeled_stack = np.copy(labeled_stack)\n",
    "\n",
    "    unique_labels = np.unique(labeled_stack)[1:]  # Exclude background (label 0)\n",
    "\n",
    "    for label in unique_labels:\n",
    "        # Get the coordinates of all pixels belonging to the current label (track) for each time point\n",
    "        time_points = np.unique(np.where(labeled_stack == label)[0])\n",
    "\n",
    "        centroids = []\n",
    "        for t in time_points:\n",
    "            coords = np.argwhere(labeled_stack[t] == label)\n",
    "            centroid = coords.mean(axis=0)\n",
    "            centroids.append(centroid)\n",
    "\n",
    "        # Calculate the total centroid displacement by summing up the distances between consecutive time points\n",
    "        total_distance = sum(np.linalg.norm(centroids[i + 1] - centroids[i]) for i in range(len(centroids) - 1))\n",
    "\n",
    "        # If total displacement is less than min_distance, remove the track\n",
    "        if total_distance < min_distance:\n",
    "            labeled_stack[labeled_stack == label] = 0\n",
    "\n",
    "    return labeled_stack\n",
    "\n",
    "\n",
    "def filter_by_duration(labeled_stack, min_duration):\n",
    "    \"\"\"\n",
    "    Removes tracks from a labeled image stack if their duration is less than the specified minimum.\n",
    "    \"\"\"\n",
    "    labeled_stack = np.copy(labeled_stack)\n",
    "\n",
    "    unique_labels = np.unique(labeled_stack)[1:]  # Exclude background (label 0)\n",
    "\n",
    "    for label in unique_labels:\n",
    "        # Get the coordinates of all pixels belonging to the current label (track) for each time point\n",
    "        time_points = np.unique(np.where(labeled_stack == label)[0])\n",
    "\n",
    "        # If the duration is less than min_duration, remove the track\n",
    "        if len(time_points) < min_duration:\n",
    "            labeled_stack[labeled_stack == label] = 0\n",
    "\n",
    "    return labeled_stack\n",
    "\n",
    "\n",
    "def smooth_segmentation(binary_objects, expand_iterations=1, remove_small=True, remove_small_objects_size=100):\n",
    "    \"\"\"\n",
    "    Smooths the segmentation by removing small objects and filling holes.\n",
    "\n",
    "    Parameters\n",
    "    ----------\n",
    "    binary_objects : numpy array\n",
    "        Binary image of the segmented objects.\n",
    "    remove_small : bool, optional\n",
    "        Whether to remove small objects. The default is True.\n",
    "    remove_small_objects_size : int, optional\n",
    "        Size of the objects to remove. The default is 100.\n",
    "\n",
    "    Returns\n",
    "    -------\n",
    "    binary_objects : numpy array\n",
    "        Smoothed binary image of the segmented objects.\n",
    "    \"\"\"\n",
    "    binary_objects = np.where(binary_objects == 2, 1, 0)\n",
    "    if len(binary_objects.shape) == 3:\n",
    "        for index, image in enumerate(binary_objects):\n",
    "            image = binary_fill_holes(image)\n",
    "            image = binary_dilation(image, square(5), iterations=expand_iterations)\n",
    "            image = erosion(image, footprint=square(5))\n",
    "            bool_img = image.astype(bool)\n",
    "            if remove_small:\n",
    "                image = remove_small_objects(bool_img, min_size=remove_small_objects_size**2)\n",
    "            image = binary_fill_holes(image)\n",
    "            binary = np.where(image, 1, 0)\n",
    "            binary_objects[index] = binary\n",
    "        return binary_objects\n",
    "    else:\n",
    "        binary_objects = binary_fill_holes(binary_objects)\n",
    "        binary_objects = binary_dilation(binary_objects, square(5), iterations=expand_iterations)\n",
    "        binary_objects = erosion(binary_objects, footprint=square(5))\n",
    "        bool_img = binary_objects.astype(bool)\n",
    "        if remove_small:\n",
    "            binary_objects = remove_small_objects(bool_img, min_size=remove_small_objects_size**2)\n",
    "        binary_objects = binary_fill_holes(binary_objects)\n",
    "        binary_objects = np.where(binary_objects, 1, 0)\n",
    "        return binary_objects\n",
    "\n",
    "def bleach_correction_smooth(img_stack, window_length=11, polyorder=2):\n",
    "    \"\"\"\n",
    "    Perform bleach correction on a t,y,x image stack using Savitzky-Golay smoothing.\n",
    "\n",
    "    Parameters:\n",
    "    - img_stack: 3D numpy array with shape (t, y, x)\n",
    "    - window_length: Length of the filter window (must be odd).\n",
    "    - polyorder: Order of the polynomial used to fit the samples.\n",
    "\n",
    "    Returns:\n",
    "    - Corrected 3D numpy array with same shape as img_stack\n",
    "    \"\"\"\n",
    "\n",
    "    # Convert img_stack to float type for the correction\n",
    "    img_stack = img_stack.astype(np.float64)\n",
    "\n",
    "    # Calculate average intensity for each time point\n",
    "    avg_intensities = img_stack.mean(axis=(1, 2))\n",
    "\n",
    "    # Apply Savitzky-Golay filter to average intensities\n",
    "    smoothed_intensities = savgol_filter(avg_intensities, window_length, polyorder)\n",
    "\n",
    "    # Calculate correction factors\n",
    "    correction_factors = smoothed_intensities / avg_intensities[0]\n",
    "\n",
    "    # Apply correction to the image stack\n",
    "    for i in range(img_stack.shape[0]):\n",
    "        img_stack[i] /= correction_factors[i]\n",
    "\n",
    "    return img_stack\n",
    "\n",
    "\n",
    "def bleach_correction_loess(img_stack, frac=0.1):\n",
    "    \"\"\"\n",
    "    Perform bleach correction on a t,y,x image stack using LOESS smoothing.\n",
    "\n",
    "    Parameters:\n",
    "    - img_stack: 3D numpy array with shape (t, y, x)\n",
    "    - frac: The fraction of data used when estimating each y-value for the lowess fit.\n",
    "            It determines the span of the window; for example, a value of 0.1 means\n",
    "            each smoothed point uses 10% of the data points.\n",
    "\n",
    "    Returns:\n",
    "    - Corrected 3D numpy array with same shape as img_stack\n",
    "    \"\"\"\n",
    "\n",
    "    # Convert img_stack to float type for the correction\n",
    "    img_stack = img_stack.astype(np.float64)\n",
    "\n",
    "    # Calculate average intensity for each time point\n",
    "    avg_intensities = img_stack.mean(axis=(1, 2))\n",
    "\n",
    "    # Time points\n",
    "    t_values = np.arange(len(avg_intensities))\n",
    "\n",
    "    # Apply LOESS smoothing to average intensities\n",
    "    smoothed_intensities = lowess(avg_intensities, t_values, frac=frac, return_sorted=False)\n",
    "\n",
    "    # Calculate correction factors\n",
    "    correction_factors = smoothed_intensities / avg_intensities[0]\n",
    "\n",
    "    # Apply correction to the image stack\n",
    "    for i in range(img_stack.shape[0]):\n",
    "        img_stack[i] /= correction_factors[i]\n",
    "\n",
    "    return img_stack\n",
    "\n",
    "\n",
    "def match_histogram(source, template):\n",
    "    hist_source, bin_edges = np.histogram(source.ravel(), bins=65536, range=(0, 65536))\n",
    "    hist_template, _ = np.histogram(template.ravel(), bins=65536, range=(0, 65536))\n",
    "\n",
    "    cdf_source = hist_source.cumsum() / hist_source.sum()\n",
    "    cdf_template = hist_template.cumsum() / hist_template.sum()\n",
    "\n",
    "    lookup_table = np.zeros(65536, dtype=np.uint16)\n",
    "    j = 0\n",
    "    for i in range(65536):\n",
    "        while cdf_template[j] < cdf_source[i] and j < 65535:\n",
    "            j += 1\n",
    "        lookup_table[i] = j\n",
    "\n",
    "    matched = lookup_table[source]\n",
    "    return matched\n",
    "\n",
    "\n",
    "def match_histogram_stack(img_stack, template):\n",
    "    matched_stack = np.zeros_like(img_stack)\n",
    "    for i in range(img_stack.shape[0]):\n",
    "        matched_stack[i] = match_histogram(img_stack[i], template)\n",
    "    return matched_stack"
   ]
  },
  {
   "cell_type": "code",
   "execution_count": 10,
   "metadata": {
    "ExecuteTime": {
     "end_time": "2023-12-04T15:49:03.028705Z",
     "start_time": "2023-12-04T15:49:01.579861Z"
    }
   },
   "outputs": [],
   "source": [
    "unstable_fibres = io.imread(\"lifeact_myosin_rgbd7_w15TIRF-GFP_s1_t1.TIF_-_Stage1__Position_11_.tiff\")\n",
    "stable_fibres = io.imread(\"lifeact_myosin_rgbd7_w15TIRF-GFP_s1_t1.TIF_-_Stage2__Position_12_.tiff\")"
   ]
  },
  {
   "cell_type": "code",
   "execution_count": null,
   "metadata": {
    "ExecuteTime": {
     "end_time": "2023-12-04T15:49:04.808826Z",
     "start_time": "2023-12-04T15:49:03.029832Z"
    }
   },
   "outputs": [],
   "source": [
    "import napari\n",
    "viewer = napari.Viewer()\n",
    "viewer.add_image(unstable_fibres, name=\"unstable fibres\")\n",
    "viewer.add_image(stable_fibres, name=\"stable fibres\")"
   ]
  },
  {
   "cell_type": "code",
   "execution_count": 11,
   "metadata": {
    "ExecuteTime": {
     "end_time": "2023-12-04T15:49:50.088221Z",
     "start_time": "2023-12-04T15:49:04.812563Z"
    }
   },
   "outputs": [
    {
     "data": {
      "application/vnd.jupyter.widget-view+json": {
       "model_id": "98655d0ab4ff422aa3adc45e3959d992",
       "version_major": 2,
       "version_minor": 0
      },
      "text/plain": [
       "  0%|          | 0/721 [00:00<?, ?it/s]"
      ]
     },
     "metadata": {},
     "output_type": "display_data"
    },
    {
     "ename": "KeyboardInterrupt",
     "evalue": "",
     "output_type": "error",
     "traceback": [
      "\u001b[1;31m---------------------------------------------------------------------------\u001b[0m",
      "\u001b[1;31mKeyboardInterrupt\u001b[0m                         Traceback (most recent call last)",
      "\u001b[1;32mc:\\Users\\benig\\Documents\\arcospx_movies\\actin_wave_analysis\\arcospx_analysis_nb_finished.ipynb Cell 5\u001b[0m line \u001b[0;36m1\n\u001b[0;32m     <a href='vscode-notebook-cell:/c%3A/Users/benig/Documents/arcospx_movies/actin_wave_analysis/arcospx_analysis_nb_finished.ipynb#W4sZmlsZQ%3D%3D?line=10'>11</a>\u001b[0m reference_rGBD \u001b[39m=\u001b[39m rGBD[\u001b[39m0\u001b[39m]\n\u001b[0;32m     <a href='vscode-notebook-cell:/c%3A/Users/benig/Documents/arcospx_movies/actin_wave_analysis/arcospx_analysis_nb_finished.ipynb#W4sZmlsZQ%3D%3D?line=11'>12</a>\u001b[0m reference_actin \u001b[39m=\u001b[39m actin[\u001b[39m0\u001b[39m]\n\u001b[1;32m---> <a href='vscode-notebook-cell:/c%3A/Users/benig/Documents/arcospx_movies/actin_wave_analysis/arcospx_analysis_nb_finished.ipynb#W4sZmlsZQ%3D%3D?line=12'>13</a>\u001b[0m myosin_bl\u001b[39m.\u001b[39mappend(np\u001b[39m.\u001b[39mstack([match_histogram(img, reference_myosin) \u001b[39mfor\u001b[39;49;00m img \u001b[39min\u001b[39;49;00m tqdm(myosin)]))\n\u001b[0;32m     <a href='vscode-notebook-cell:/c%3A/Users/benig/Documents/arcospx_movies/actin_wave_analysis/arcospx_analysis_nb_finished.ipynb#W4sZmlsZQ%3D%3D?line=13'>14</a>\u001b[0m rGBD_bl\u001b[39m.\u001b[39mappend(np\u001b[39m.\u001b[39mstack([match_histogram(img, reference_rGBD) \u001b[39mfor\u001b[39;00m img \u001b[39min\u001b[39;00m tqdm(rGBD)]))\n\u001b[0;32m     <a href='vscode-notebook-cell:/c%3A/Users/benig/Documents/arcospx_movies/actin_wave_analysis/arcospx_analysis_nb_finished.ipynb#W4sZmlsZQ%3D%3D?line=14'>15</a>\u001b[0m actin_bl\u001b[39m.\u001b[39mappend(np\u001b[39m.\u001b[39mstack([match_histogram(img, reference_actin) \u001b[39mfor\u001b[39;00m img \u001b[39min\u001b[39;00m tqdm(actin)]))\n",
      "\u001b[1;32mc:\\Users\\benig\\Documents\\arcospx_movies\\actin_wave_analysis\\arcospx_analysis_nb_finished.ipynb Cell 5\u001b[0m line \u001b[0;36m1\n\u001b[0;32m     <a href='vscode-notebook-cell:/c%3A/Users/benig/Documents/arcospx_movies/actin_wave_analysis/arcospx_analysis_nb_finished.ipynb#W4sZmlsZQ%3D%3D?line=10'>11</a>\u001b[0m reference_rGBD \u001b[39m=\u001b[39m rGBD[\u001b[39m0\u001b[39m]\n\u001b[0;32m     <a href='vscode-notebook-cell:/c%3A/Users/benig/Documents/arcospx_movies/actin_wave_analysis/arcospx_analysis_nb_finished.ipynb#W4sZmlsZQ%3D%3D?line=11'>12</a>\u001b[0m reference_actin \u001b[39m=\u001b[39m actin[\u001b[39m0\u001b[39m]\n\u001b[1;32m---> <a href='vscode-notebook-cell:/c%3A/Users/benig/Documents/arcospx_movies/actin_wave_analysis/arcospx_analysis_nb_finished.ipynb#W4sZmlsZQ%3D%3D?line=12'>13</a>\u001b[0m myosin_bl\u001b[39m.\u001b[39mappend(np\u001b[39m.\u001b[39mstack([match_histogram(img, reference_myosin) \u001b[39mfor\u001b[39;00m img \u001b[39min\u001b[39;00m tqdm(myosin)]))\n\u001b[0;32m     <a href='vscode-notebook-cell:/c%3A/Users/benig/Documents/arcospx_movies/actin_wave_analysis/arcospx_analysis_nb_finished.ipynb#W4sZmlsZQ%3D%3D?line=13'>14</a>\u001b[0m rGBD_bl\u001b[39m.\u001b[39mappend(np\u001b[39m.\u001b[39mstack([match_histogram(img, reference_rGBD) \u001b[39mfor\u001b[39;00m img \u001b[39min\u001b[39;00m tqdm(rGBD)]))\n\u001b[0;32m     <a href='vscode-notebook-cell:/c%3A/Users/benig/Documents/arcospx_movies/actin_wave_analysis/arcospx_analysis_nb_finished.ipynb#W4sZmlsZQ%3D%3D?line=14'>15</a>\u001b[0m actin_bl\u001b[39m.\u001b[39mappend(np\u001b[39m.\u001b[39mstack([match_histogram(img, reference_actin) \u001b[39mfor\u001b[39;00m img \u001b[39min\u001b[39;00m tqdm(actin)]))\n",
      "\u001b[1;32mc:\\Users\\benig\\Documents\\arcospx_movies\\actin_wave_analysis\\arcospx_analysis_nb_finished.ipynb Cell 5\u001b[0m line \u001b[0;36m2\n\u001b[0;32m    <a href='vscode-notebook-cell:/c%3A/Users/benig/Documents/arcospx_movies/actin_wave_analysis/arcospx_analysis_nb_finished.ipynb#W4sZmlsZQ%3D%3D?line=252'>253</a>\u001b[0m     \u001b[39mwhile\u001b[39;00m cdf_template[j] \u001b[39m<\u001b[39m cdf_source[i] \u001b[39mand\u001b[39;00m j \u001b[39m<\u001b[39m \u001b[39m65535\u001b[39m:\n\u001b[0;32m    <a href='vscode-notebook-cell:/c%3A/Users/benig/Documents/arcospx_movies/actin_wave_analysis/arcospx_analysis_nb_finished.ipynb#W4sZmlsZQ%3D%3D?line=253'>254</a>\u001b[0m         j \u001b[39m+\u001b[39m\u001b[39m=\u001b[39m \u001b[39m1\u001b[39m\n\u001b[1;32m--> <a href='vscode-notebook-cell:/c%3A/Users/benig/Documents/arcospx_movies/actin_wave_analysis/arcospx_analysis_nb_finished.ipynb#W4sZmlsZQ%3D%3D?line=254'>255</a>\u001b[0m     lookup_table[i] \u001b[39m=\u001b[39m j\n\u001b[0;32m    <a href='vscode-notebook-cell:/c%3A/Users/benig/Documents/arcospx_movies/actin_wave_analysis/arcospx_analysis_nb_finished.ipynb#W4sZmlsZQ%3D%3D?line=256'>257</a>\u001b[0m matched \u001b[39m=\u001b[39m lookup_table[source]\n\u001b[0;32m    <a href='vscode-notebook-cell:/c%3A/Users/benig/Documents/arcospx_movies/actin_wave_analysis/arcospx_analysis_nb_finished.ipynb#W4sZmlsZQ%3D%3D?line=257'>258</a>\u001b[0m \u001b[39mreturn\u001b[39;00m matched\n",
      "\u001b[1;31mKeyboardInterrupt\u001b[0m: "
     ]
    }
   ],
   "source": [
    "from tqdm.auto import tqdm\n",
    "\n",
    "myosin_bl = []\n",
    "rGBD_bl = []\n",
    "actin_bl = []\n",
    "\n",
    "myosin = stable_fibres[..., 1]\n",
    "rGBD = stable_fibres[..., 2]\n",
    "actin = stable_fibres[..., 0]\n",
    "reference_myosin = myosin[0]\n",
    "reference_rGBD = rGBD[0]\n",
    "reference_actin = actin[0]\n",
    "myosin_bl.append(np.stack([match_histogram(img, reference_myosin) for img in tqdm(myosin)]))\n",
    "rGBD_bl.append(np.stack([match_histogram(img, reference_rGBD) for img in tqdm(rGBD)]))\n",
    "actin_bl.append(np.stack([match_histogram(img, reference_actin) for img in tqdm(actin)]))\n",
    "myosin_bl = np.concatenate(myosin_bl)\n",
    "rGBD_bl = np.concatenate(rGBD_bl)\n",
    "actin_bl = np.concatenate(actin_bl)"
   ]
  },
  {
   "cell_type": "code",
   "execution_count": null,
   "metadata": {
    "ExecuteTime": {
     "end_time": "2023-12-04T15:49:50.682985Z",
     "start_time": "2023-12-04T15:49:50.094914Z"
    }
   },
   "outputs": [],
   "source": [
    "viewer = napari.Viewer()\n",
    "# viewer.add_image(actin)\n",
    "viewer.add_image(actin_bl)\n"
   ]
  },
  {
   "cell_type": "code",
   "execution_count": 12,
   "metadata": {
    "ExecuteTime": {
     "end_time": "2023-12-04T15:49:53.345236Z",
     "start_time": "2023-12-04T15:49:50.683230Z"
    }
   },
   "outputs": [
    {
     "data": {
      "text/plain": [
       "(721, 180, 180)"
      ]
     },
     "execution_count": 12,
     "metadata": {},
     "output_type": "execute_result"
    }
   ],
   "source": [
    "binned_actin = blockwise_median(actin, (1, 3, 3))\n",
    "binned_actin.shape\n",
    "# io.imsave(\"binned_actin.tif\", binned_actin)"
   ]
  },
  {
   "cell_type": "code",
   "execution_count": null,
   "metadata": {
    "ExecuteTime": {
     "end_time": "2023-12-04T15:49:54.134585Z",
     "start_time": "2023-12-04T15:49:53.348618Z"
    }
   },
   "outputs": [],
   "source": [
    "viewer = napari.Viewer()\n",
    "viewer.add_image(binned_actin)\n",
    "viewer.add_image(actin_bl)"
   ]
  },
  {
   "cell_type": "code",
   "execution_count": null,
   "metadata": {
    "ExecuteTime": {
     "end_time": "2023-12-04T15:49:54.137850Z",
     "start_time": "2023-12-04T15:49:54.134450Z"
    }
   },
   "outputs": [],
   "source": [
    "from skimage.morphology import opening\n",
    "from skimage.filters import gaussian"
   ]
  },
  {
   "cell_type": "code",
   "execution_count": 13,
   "metadata": {
    "ExecuteTime": {
     "end_time": "2023-12-04T15:50:18.598491Z",
     "start_time": "2023-12-04T15:49:54.139167Z"
    }
   },
   "outputs": [],
   "source": [
    "actin_bg = remove_image_background(binned_actin, size=(100, 1, 1), filter_type=\"median\", crop_time_axis=True)\n",
    "actin_bg = np.where(actin_bg < 0, 0, actin_bg)"
   ]
  },
  {
   "cell_type": "code",
   "execution_count": null,
   "metadata": {
    "ExecuteTime": {
     "end_time": "2023-12-04T15:50:18.931238Z",
     "start_time": "2023-12-04T15:50:18.599242Z"
    }
   },
   "outputs": [],
   "source": [
    "plt.hist(actin_bg.ravel(), bins=100)"
   ]
  },
  {
   "cell_type": "code",
   "execution_count": null,
   "metadata": {
    "ExecuteTime": {
     "end_time": "2023-12-04T15:50:19.552404Z",
     "start_time": "2023-12-04T15:50:18.934201Z"
    }
   },
   "outputs": [],
   "source": [
    "viewer = napari.Viewer()\n",
    "#viewer.add_image(actin_bg_bl)\n",
    "viewer.add_image(actin_bg)\n",
    "# viewer.add_labels(track_events_image(actin_bg > 3, eps=5, minClSz=15, predictor=True, nPrev=3))"
   ]
  },
  {
   "cell_type": "code",
   "execution_count": null,
   "metadata": {
    "ExecuteTime": {
     "end_time": "2023-12-04T15:50:19.793134Z",
     "start_time": "2023-12-04T15:50:19.552243Z"
    }
   },
   "outputs": [],
   "source": [
    "test = gaussian(actin_bg, sigma=1)"
   ]
  },
  {
   "cell_type": "code",
   "execution_count": null,
   "metadata": {
    "ExecuteTime": {
     "end_time": "2023-12-04T15:50:20.745497Z",
     "start_time": "2023-12-04T15:50:19.801301Z"
    }
   },
   "outputs": [],
   "source": [
    "viewer = napari.Viewer()\n",
    "viewer.add_image(test)\n",
    "viewer.add_image(actin_bg)\n",
    "viewer.add_image(binned_actin)"
   ]
  },
  {
   "cell_type": "markdown",
   "metadata": {},
   "source": [
    "# Do seg with convpaint"
   ]
  },
  {
   "cell_type": "code",
   "execution_count": null,
   "metadata": {
    "ExecuteTime": {
     "end_time": "2023-12-04T15:50:21.395812Z",
     "start_time": "2023-12-04T15:50:20.748526Z"
    }
   },
   "outputs": [],
   "source": [
    "viewer = napari.Viewer()\n",
    "viewer.add_image(binned_actin)\n",
    "# viewer.add_labels(events_1)"
   ]
  },
  {
   "cell_type": "code",
   "execution_count": null,
   "metadata": {
    "ExecuteTime": {
     "end_time": "2023-12-04T15:50:22.074864Z",
     "start_time": "2023-12-04T15:50:21.400176Z"
    }
   },
   "outputs": [],
   "source": [
    "# viewer = napari.Viewer()\n",
    "viewer = napari.Viewer()\n",
    "viewer.add_image(test)\n",
    "# viewer.add_image(binned_actin[50:-50])\n",
    "# viewer.add_labels(events_1)"
   ]
  },
  {
   "cell_type": "code",
   "execution_count": 16,
   "metadata": {
    "ExecuteTime": {
     "end_time": "2023-12-04T15:50:25.910679Z",
     "start_time": "2023-12-04T15:50:22.075153Z"
    },
    "collapsed": false
   },
   "outputs": [],
   "source": [
    "from cellpose import models"
   ]
  },
  {
   "cell_type": "code",
   "execution_count": 17,
   "metadata": {
    "ExecuteTime": {
     "end_time": "2023-12-04T15:50:26.037398Z",
     "start_time": "2023-12-04T15:50:25.912771Z"
    },
    "collapsed": false
   },
   "outputs": [],
   "source": [
    "model = models.Cellpose(gpu=True, model_type=\"cyto2\")"
   ]
  },
  {
   "cell_type": "code",
   "execution_count": null,
   "metadata": {
    "ExecuteTime": {
     "end_time": "2023-12-04T15:50:26.088945Z",
     "start_time": "2023-12-04T15:50:26.037678Z"
    },
    "collapsed": false
   },
   "outputs": [],
   "source": [
    "seg_cp = np.zeros_like(binned_actin)"
   ]
  },
  {
   "cell_type": "code",
   "execution_count": 18,
   "metadata": {
    "ExecuteTime": {
     "end_time": "2023-12-04T15:58:27.065913Z",
     "start_time": "2023-12-04T15:50:26.091192Z"
    }
   },
   "outputs": [
    {
     "ename": "NameError",
     "evalue": "name 'seg_cp' is not defined",
     "output_type": "error",
     "traceback": [
      "\u001b[1;31m---------------------------------------------------------------------------\u001b[0m",
      "\u001b[1;31mNameError\u001b[0m                                 Traceback (most recent call last)",
      "\u001b[1;32mc:\\Users\\benig\\Documents\\arcospx_movies\\actin_wave_analysis\\arcospx_analysis_nb_finished.ipynb Cell 21\u001b[0m line \u001b[0;36m3\n\u001b[0;32m      <a href='vscode-notebook-cell:/c%3A/Users/benig/Documents/arcospx_movies/actin_wave_analysis/arcospx_analysis_nb_finished.ipynb#X26sZmlsZQ%3D%3D?line=0'>1</a>\u001b[0m \u001b[39mfor\u001b[39;00m idx, img \u001b[39min\u001b[39;00m \u001b[39menumerate\u001b[39m(binned_actin):\n\u001b[0;32m      <a href='vscode-notebook-cell:/c%3A/Users/benig/Documents/arcospx_movies/actin_wave_analysis/arcospx_analysis_nb_finished.ipynb#X26sZmlsZQ%3D%3D?line=1'>2</a>\u001b[0m     masks, flows, styles, diams \u001b[39m=\u001b[39m model\u001b[39m.\u001b[39meval(img, diameter\u001b[39m=\u001b[39m\u001b[39m60\u001b[39m, channels\u001b[39m=\u001b[39m[\u001b[39m0\u001b[39m, \u001b[39m0\u001b[39m], do_3D\u001b[39m=\u001b[39m\u001b[39mFalse\u001b[39;00m, net_avg\u001b[39m=\u001b[39m\u001b[39mTrue\u001b[39;00m)\n\u001b[1;32m----> <a href='vscode-notebook-cell:/c%3A/Users/benig/Documents/arcospx_movies/actin_wave_analysis/arcospx_analysis_nb_finished.ipynb#X26sZmlsZQ%3D%3D?line=2'>3</a>\u001b[0m     seg_cp[idx] \u001b[39m=\u001b[39m masks\n",
      "\u001b[1;31mNameError\u001b[0m: name 'seg_cp' is not defined"
     ]
    }
   ],
   "source": [
    "for idx, img in enumerate(binned_actin):\n",
    "    masks, flows, styles, diams = model.eval(img, diameter=60, channels=[0, 0], do_3D=False, net_avg=True)\n",
    "    seg_cp[idx] = masks\n",
    "\n",
    "\n"
   ]
  },
  {
   "cell_type": "code",
   "execution_count": null,
   "metadata": {
    "ExecuteTime": {
     "end_time": "2023-12-04T15:58:27.104543Z",
     "start_time": "2023-12-04T15:58:27.069265Z"
    }
   },
   "outputs": [],
   "source": [
    "seg_cp.astype(np.uint8).shape"
   ]
  },
  {
   "cell_type": "code",
   "execution_count": null,
   "metadata": {
    "ExecuteTime": {
     "end_time": "2023-12-04T15:58:27.403069Z",
     "start_time": "2023-12-04T15:58:27.105934Z"
    }
   },
   "outputs": [],
   "source": [
    "viewer.add_labels(seg_cp.astype(np.uint8))"
   ]
  },
  {
   "cell_type": "code",
   "execution_count": null,
   "metadata": {
    "ExecuteTime": {
     "end_time": "2023-12-04T15:58:29.145524Z",
     "start_time": "2023-12-04T15:58:27.403862Z"
    }
   },
   "outputs": [],
   "source": [
    "dist_transform = []\n",
    "for i in seg_cp:\n",
    "    dist_transform.append(distance_transform_edt(i).astype(np.uint16))\n",
    "\n",
    "dist_transform = np.stack(dist_transform)\n",
    "viewer = napari.Viewer()\n",
    "viewer.add_image(dist_transform)"
   ]
  },
  {
   "cell_type": "code",
   "execution_count": null,
   "metadata": {
    "ExecuteTime": {
     "end_time": "2023-12-04T15:58:33.889748Z",
     "start_time": "2023-12-04T15:58:29.146670Z"
    },
    "collapsed": false
   },
   "outputs": [],
   "source": [
    "dist_transform_upscaled = []\n",
    "for t in dist_transform:\n",
    "    t_img = upscale_image(t, 3)\n",
    "    dist_transform_upscaled.append(t_img)\n",
    "\n",
    "dist_transform_upscaled = np.stack(dist_transform_upscaled)\n",
    "viewer = napari.Viewer()\n",
    "viewer.add_image(dist_transform_upscaled)"
   ]
  },
  {
   "cell_type": "code",
   "execution_count": null,
   "metadata": {
    "ExecuteTime": {
     "end_time": "2023-12-04T15:58:33.971257Z",
     "start_time": "2023-12-04T15:58:33.889415Z"
    }
   },
   "outputs": [],
   "source": [
    "test_no_edge = np.where((dist_transform[50:-50] < 5), 0, test)"
   ]
  },
  {
   "cell_type": "code",
   "execution_count": null,
   "metadata": {
    "ExecuteTime": {
     "end_time": "2023-12-04T15:58:34.099546Z",
     "start_time": "2023-12-04T15:58:33.968340Z"
    }
   },
   "outputs": [],
   "source": [
    "viewer.add_image(test_no_edge, name=\"test_no_edge\")"
   ]
  },
  {
   "cell_type": "code",
   "execution_count": null,
   "metadata": {
    "ExecuteTime": {
     "end_time": "2023-12-04T15:58:38.711536Z",
     "start_time": "2023-12-04T15:58:34.100240Z"
    }
   },
   "outputs": [],
   "source": [
    "events_1 = track_events_image(test_no_edge > 40, eps=3, epsPrev=3, minClSz=8, predictor=True, nPrev=3, downsample=1)"
   ]
  },
  {
   "cell_type": "code",
   "execution_count": null,
   "metadata": {
    "ExecuteTime": {
     "end_time": "2023-12-04T15:58:38.831245Z",
     "start_time": "2023-12-04T15:58:38.709613Z"
    }
   },
   "outputs": [],
   "source": [
    "viewer.add_labels(events_1, name=\"events_1\")"
   ]
  },
  {
   "cell_type": "code",
   "execution_count": null,
   "metadata": {
    "ExecuteTime": {
     "end_time": "2023-12-04T15:58:56.755995Z",
     "start_time": "2023-12-04T15:58:38.829442Z"
    }
   },
   "outputs": [],
   "source": [
    "events_1_filtered = process_time_series_label_images(events_1, 5)\n",
    "events_1_filtered = filter_by_duration(events_1_filtered, 10)"
   ]
  },
  {
   "cell_type": "code",
   "execution_count": null,
   "metadata": {
    "ExecuteTime": {
     "end_time": "2023-12-04T15:58:56.879352Z",
     "start_time": "2023-12-04T15:58:56.757401Z"
    }
   },
   "outputs": [],
   "source": [
    "viewer = napari.current_viewer()\n",
    "viewer.add_labels(events_1, name=\"events_1\")\n",
    "# viewer.add_labels(events_1_filtered, name=\"events_1_filtered\")"
   ]
  },
  {
   "cell_type": "code",
   "execution_count": null,
   "metadata": {
    "ExecuteTime": {
     "end_time": "2023-12-04T15:59:00.117513Z",
     "start_time": "2023-12-04T15:58:56.879582Z"
    }
   },
   "outputs": [],
   "source": [
    "events_upscaled = []\n",
    "for t in events_1_filtered:\n",
    "    t_img = upscale_image(t, 3)\n",
    "    events_upscaled.append(t_img)\n",
    "\n",
    "events_upscaled = np.stack(events_upscaled)"
   ]
  },
  {
   "cell_type": "code",
   "execution_count": null,
   "metadata": {
    "ExecuteTime": {
     "end_time": "2023-12-04T15:59:00.248455Z",
     "start_time": "2023-12-04T15:59:00.118132Z"
    }
   },
   "outputs": [],
   "source": [
    "viewer = napari.current_viewer()\n",
    "viewer.add_labels(events_upscaled, name=\"events_1\")"
   ]
  },
  {
   "cell_type": "code",
   "execution_count": null,
   "metadata": {
    "ExecuteTime": {
     "end_time": "2023-12-04T15:59:01.125431Z",
     "start_time": "2023-12-04T15:59:00.247314Z"
    }
   },
   "outputs": [],
   "source": [
    "viewer = napari.Viewer()\n",
    "viewer.add_image(stable_fibres[50:-50, ...,0 ], name=\"binned_actin\")\n",
    "viewer.add_labels(events_upscaled, name=\"events_1\")"
   ]
  },
  {
   "cell_type": "code",
   "execution_count": null,
   "metadata": {
    "ExecuteTime": {
     "end_time": "2023-12-04T15:59:01.125703Z",
     "start_time": "2023-12-04T15:59:01.121729Z"
    }
   },
   "outputs": [],
   "source": [
    "unstable_fibres.shape"
   ]
  },
  {
   "cell_type": "code",
   "execution_count": null,
   "metadata": {
    "ExecuteTime": {
     "end_time": "2023-12-04T15:59:01.136506Z",
     "start_time": "2023-12-04T15:59:01.125760Z"
    }
   },
   "outputs": [],
   "source": [
    "actin[0].shape"
   ]
  },
  {
   "cell_type": "code",
   "execution_count": null,
   "metadata": {
    "ExecuteTime": {
     "end_time": "2023-12-04T15:59:03.530237Z",
     "start_time": "2023-12-04T15:59:01.131357Z"
    }
   },
   "outputs": [],
   "source": [
    "from skimage.measure import regionprops_table\n",
    "\n",
    "df_all = []\n",
    "for idx, e in enumerate(events_upscaled):\n",
    "    props = regionprops_table(e, properties=(\"label\", \"area\", \"centroid\", 'intensity_mean'), intensity_image=actin[idx][:, :1160])\n",
    "    df_temp = pd.DataFrame(props)\n",
    "    df_temp[\"frame\"] = idx\n",
    "    df_all.append(df_temp)\n",
    "\n",
    "df_all = pd.concat(df_all)\n",
    "\n",
    "df_all.rename(columns={\"centroid-0\": \"x\", \"centroid-1\": \"y\", \"label\": \"id\"}, inplace=True)"
   ]
  },
  {
   "cell_type": "code",
   "execution_count": null,
   "metadata": {
    "ExecuteTime": {
     "end_time": "2023-12-04T15:59:03.545941Z",
     "start_time": "2023-12-04T15:59:03.531950Z"
    }
   },
   "outputs": [],
   "source": [
    "df_all"
   ]
  },
  {
   "cell_type": "code",
   "execution_count": null,
   "metadata": {
    "ExecuteTime": {
     "end_time": "2023-12-04T15:59:03.552030Z",
     "start_time": "2023-12-04T15:59:03.546636Z"
    },
    "collapsed": false
   },
   "outputs": [],
   "source": [
    "selected_data = df_all.iloc[:12, [2, 3]]\n",
    "selected_data\n"
   ]
  },
  {
   "cell_type": "code",
   "execution_count": null,
   "metadata": {
    "ExecuteTime": {
     "end_time": "2023-12-04T15:59:04.591694Z",
     "start_time": "2023-12-04T15:59:03.554490Z"
    },
    "collapsed": false
   },
   "outputs": [],
   "source": [
    "viewer = napari.Viewer()\n",
    "viewer.add_image(stable_fibres[50:-50, ...,0 ], name=\"binned_actin\")\n",
    "viewer.add_labels(events_upscaled, name=\"events_1\")\n",
    "point_layer = viewer.add_points(selected_data, size=5, symbol='cross', name='cross_points')\n"
   ]
  },
  {
   "cell_type": "code",
   "execution_count": null,
   "metadata": {
    "ExecuteTime": {
     "end_time": "2023-12-04T15:59:04.592092Z",
     "start_time": "2023-12-04T15:59:04.585272Z"
    },
    "collapsed": false
   },
   "outputs": [],
   "source": [
    "events_upscaled.shape"
   ]
  },
  {
   "cell_type": "code",
   "execution_count": 144,
   "metadata": {
    "ExecuteTime": {
     "end_time": "2023-12-04T15:59:04.826691Z",
     "start_time": "2023-12-04T15:59:04.603646Z"
    },
    "collapsed": false
   },
   "outputs": [
    {
     "data": {
      "text/html": [
       "<div>\n",
       "<style scoped>\n",
       "    .dataframe tbody tr th:only-of-type {\n",
       "        vertical-align: middle;\n",
       "    }\n",
       "\n",
       "    .dataframe tbody tr th {\n",
       "        vertical-align: top;\n",
       "    }\n",
       "\n",
       "    .dataframe thead th {\n",
       "        text-align: right;\n",
       "    }\n",
       "</style>\n",
       "<table border=\"1\" class=\"dataframe\">\n",
       "  <thead>\n",
       "    <tr style=\"text-align: right;\">\n",
       "      <th></th>\n",
       "      <th>id</th>\n",
       "      <th>origin_x</th>\n",
       "      <th>origin_y</th>\n",
       "      <th>origin_t</th>\n",
       "      <th>end_x</th>\n",
       "      <th>end_y</th>\n",
       "      <th>end_t</th>\n",
       "      <th>lifetime</th>\n",
       "      <th>avg_size</th>\n",
       "      <th>avg_velocity</th>\n",
       "      <th>persistence</th>\n",
       "    </tr>\n",
       "  </thead>\n",
       "  <tbody>\n",
       "    <tr>\n",
       "      <th>0</th>\n",
       "      <td>1</td>\n",
       "      <td>68.065041</td>\n",
       "      <td>416.211382</td>\n",
       "      <td>0.0</td>\n",
       "      <td>88.671779</td>\n",
       "      <td>418.773006</td>\n",
       "      <td>620.0</td>\n",
       "      <td>621</td>\n",
       "      <td>2067.246377</td>\n",
       "      <td>0.163817</td>\n",
       "      <td>0.020445</td>\n",
       "    </tr>\n",
       "    <tr>\n",
       "      <th>1</th>\n",
       "      <td>2</td>\n",
       "      <td>38.161290</td>\n",
       "      <td>346.967742</td>\n",
       "      <td>0.0</td>\n",
       "      <td>26.800000</td>\n",
       "      <td>338.800000</td>\n",
       "      <td>37.0</td>\n",
       "      <td>38</td>\n",
       "      <td>213.394737</td>\n",
       "      <td>0.165336</td>\n",
       "      <td>0.228732</td>\n",
       "    </tr>\n",
       "    <tr>\n",
       "      <th>2</th>\n",
       "      <td>3</td>\n",
       "      <td>45.700000</td>\n",
       "      <td>230.800000</td>\n",
       "      <td>0.0</td>\n",
       "      <td>57.100000</td>\n",
       "      <td>235.600000</td>\n",
       "      <td>37.0</td>\n",
       "      <td>38</td>\n",
       "      <td>100.241379</td>\n",
       "      <td>0.187234</td>\n",
       "      <td>0.209757</td>\n",
       "    </tr>\n",
       "    <tr>\n",
       "      <th>3</th>\n",
       "      <td>4</td>\n",
       "      <td>149.455882</td>\n",
       "      <td>129.029412</td>\n",
       "      <td>0.0</td>\n",
       "      <td>153.000000</td>\n",
       "      <td>138.666667</td>\n",
       "      <td>19.0</td>\n",
       "      <td>20</td>\n",
       "      <td>355.500000</td>\n",
       "      <td>0.084053</td>\n",
       "      <td>0.642971</td>\n",
       "    </tr>\n",
       "    <tr>\n",
       "      <th>4</th>\n",
       "      <td>5</td>\n",
       "      <td>167.789474</td>\n",
       "      <td>45.105263</td>\n",
       "      <td>0.0</td>\n",
       "      <td>105.625000</td>\n",
       "      <td>49.375000</td>\n",
       "      <td>217.0</td>\n",
       "      <td>218</td>\n",
       "      <td>1125.083333</td>\n",
       "      <td>0.177320</td>\n",
       "      <td>0.159283</td>\n",
       "    </tr>\n",
       "    <tr>\n",
       "      <th>...</th>\n",
       "      <td>...</td>\n",
       "      <td>...</td>\n",
       "      <td>...</td>\n",
       "      <td>...</td>\n",
       "      <td>...</td>\n",
       "      <td>...</td>\n",
       "      <td>...</td>\n",
       "      <td>...</td>\n",
       "      <td>...</td>\n",
       "      <td>...</td>\n",
       "      <td>...</td>\n",
       "    </tr>\n",
       "    <tr>\n",
       "      <th>124</th>\n",
       "      <td>258</td>\n",
       "      <td>144.625000</td>\n",
       "      <td>159.625000</td>\n",
       "      <td>588.0</td>\n",
       "      <td>149.956522</td>\n",
       "      <td>133.104348</td>\n",
       "      <td>620.0</td>\n",
       "      <td>33</td>\n",
       "      <td>562.909091</td>\n",
       "      <td>0.113667</td>\n",
       "      <td>0.743707</td>\n",
       "    </tr>\n",
       "    <tr>\n",
       "      <th>125</th>\n",
       "      <td>260</td>\n",
       "      <td>353.000000</td>\n",
       "      <td>443.000000</td>\n",
       "      <td>594.0</td>\n",
       "      <td>353.500000</td>\n",
       "      <td>466.750000</td>\n",
       "      <td>620.0</td>\n",
       "      <td>27</td>\n",
       "      <td>192.666667</td>\n",
       "      <td>0.122340</td>\n",
       "      <td>0.746824</td>\n",
       "    </tr>\n",
       "    <tr>\n",
       "      <th>126</th>\n",
       "      <td>263</td>\n",
       "      <td>406.000000</td>\n",
       "      <td>349.000000</td>\n",
       "      <td>601.0</td>\n",
       "      <td>416.846154</td>\n",
       "      <td>344.846154</td>\n",
       "      <td>613.0</td>\n",
       "      <td>13</td>\n",
       "      <td>171.000000</td>\n",
       "      <td>0.111229</td>\n",
       "      <td>0.870155</td>\n",
       "    </tr>\n",
       "    <tr>\n",
       "      <th>127</th>\n",
       "      <td>264</td>\n",
       "      <td>7.375000</td>\n",
       "      <td>442.375000</td>\n",
       "      <td>604.0</td>\n",
       "      <td>10.103448</td>\n",
       "      <td>447.379310</td>\n",
       "      <td>620.0</td>\n",
       "      <td>17</td>\n",
       "      <td>192.176471</td>\n",
       "      <td>0.103898</td>\n",
       "      <td>0.342871</td>\n",
       "    </tr>\n",
       "    <tr>\n",
       "      <th>128</th>\n",
       "      <td>267</td>\n",
       "      <td>373.923077</td>\n",
       "      <td>305.615385</td>\n",
       "      <td>610.0</td>\n",
       "      <td>379.654545</td>\n",
       "      <td>307.381818</td>\n",
       "      <td>620.0</td>\n",
       "      <td>11</td>\n",
       "      <td>303.545455</td>\n",
       "      <td>0.085135</td>\n",
       "      <td>0.704468</td>\n",
       "    </tr>\n",
       "  </tbody>\n",
       "</table>\n",
       "<p>129 rows × 11 columns</p>\n",
       "</div>"
      ],
      "text/plain": [
       "      id    origin_x    origin_y  origin_t       end_x       end_y  end_t  \\\n",
       "0      1   68.065041  416.211382       0.0   88.671779  418.773006  620.0   \n",
       "1      2   38.161290  346.967742       0.0   26.800000  338.800000   37.0   \n",
       "2      3   45.700000  230.800000       0.0   57.100000  235.600000   37.0   \n",
       "3      4  149.455882  129.029412       0.0  153.000000  138.666667   19.0   \n",
       "4      5  167.789474   45.105263       0.0  105.625000   49.375000  217.0   \n",
       "..   ...         ...         ...       ...         ...         ...    ...   \n",
       "124  258  144.625000  159.625000     588.0  149.956522  133.104348  620.0   \n",
       "125  260  353.000000  443.000000     594.0  353.500000  466.750000  620.0   \n",
       "126  263  406.000000  349.000000     601.0  416.846154  344.846154  613.0   \n",
       "127  264    7.375000  442.375000     604.0   10.103448  447.379310  620.0   \n",
       "128  267  373.923077  305.615385     610.0  379.654545  307.381818  620.0   \n",
       "\n",
       "     lifetime     avg_size  avg_velocity  persistence  \n",
       "0         621  2067.246377      0.163817     0.020445  \n",
       "1          38   213.394737      0.165336     0.228732  \n",
       "2          38   100.241379      0.187234     0.209757  \n",
       "3          20   355.500000      0.084053     0.642971  \n",
       "4         218  1125.083333      0.177320     0.159283  \n",
       "..        ...          ...           ...          ...  \n",
       "124        33   562.909091      0.113667     0.743707  \n",
       "125        27   192.666667      0.122340     0.746824  \n",
       "126        13   171.000000      0.111229     0.870155  \n",
       "127        17   192.176471      0.103898     0.342871  \n",
       "128        11   303.545455      0.085135     0.704468  \n",
       "\n",
       "[129 rows x 11 columns]"
      ]
     },
     "execution_count": 144,
     "metadata": {},
     "output_type": "execute_result"
    }
   ],
   "source": [
    "import pandas as pd\n",
    "import numpy as np\n",
    "\n",
    "\n",
    "def get_summary_statistics(df):\n",
    "    # Initializing lists to hold statistics for all objects\n",
    "    obj_ids = []\n",
    "    origin_x = []\n",
    "    origin_y = []\n",
    "    origin_t = []\n",
    "    end_x = []\n",
    "    end_y = []\n",
    "    end_t = []\n",
    "    lifetimes = []\n",
    "    avg_sizes = []\n",
    "    avg_velocities = []\n",
    "    persistences = []\n",
    "\n",
    "    for obj_id in df[\"id\"].unique():\n",
    "        obj_df = df[df[\"id\"] == obj_id].sort_values(by=\"frame\")\n",
    "\n",
    "        # Origin and End points\n",
    "        origin_x.append(obj_df.iloc[0][\"x\"])\n",
    "        origin_y.append(obj_df.iloc[0][\"y\"])\n",
    "        origin_t.append(obj_df.iloc[0][\"frame\"])\n",
    "        end_x.append(obj_df.iloc[-1][\"x\"])\n",
    "        end_y.append(obj_df.iloc[-1][\"y\"])\n",
    "        end_t.append(obj_df.iloc[-1][\"frame\"])\n",
    "\n",
    "        # Lifetime\n",
    "        lifetime = obj_df[\"frame\"].max() - obj_df[\"frame\"].min() + 1\n",
    "        lifetimes.append(lifetime)\n",
    "\n",
    "        # Average size\n",
    "        avg_sizes.append(obj_df[\"area\"].mean())\n",
    "\n",
    "        # Average velocity\n",
    "        obj_df[\"dx\"] = obj_df[\"x\"].diff()\n",
    "        obj_df[\"dy\"] = obj_df[\"y\"].diff()\n",
    "        obj_df[\"dt\"] = obj_df[\"frame\"].diff() * 10  # Assuming 10 seconds per frame\n",
    "        velocities = np.sqrt(obj_df[\"dx\"] ** 2 + obj_df[\"dy\"] ** 2) / obj_df[\"dt\"]\n",
    "        avg_velocities.append(velocities.mean())\n",
    "\n",
    "        # Persistence\n",
    "        net_displacement = np.linalg.norm(\n",
    "            [obj_df[\"x\"].iloc[-1] - obj_df[\"x\"].iloc[0], obj_df[\"y\"].iloc[-1] - obj_df[\"y\"].iloc[0]]\n",
    "        )\n",
    "        total_distance = np.sum(np.sqrt(obj_df[\"x\"].diff() ** 2 + obj_df[\"y\"].diff() ** 2))\n",
    "        persistence = net_displacement / total_distance if total_distance != 0 else 0  # To avoid division by zero\n",
    "        persistences.append(persistence)\n",
    "\n",
    "        # Add to object IDs list\n",
    "        obj_ids.append(obj_id)\n",
    "\n",
    "    # Creating the summary DataFrame\n",
    "    summary_df = pd.DataFrame(\n",
    "        {\n",
    "            \"id\": obj_ids,\n",
    "            \"origin_x\": origin_x,\n",
    "            \"origin_y\": origin_y,\n",
    "            \"origin_t\": origin_t,\n",
    "            \"end_x\": end_x,\n",
    "            \"end_y\": end_y,\n",
    "            \"end_t\": end_t,\n",
    "            \"lifetime\": lifetimes,\n",
    "            \"avg_size\": avg_sizes,\n",
    "            \"avg_velocity\": avg_velocities,\n",
    "            \"persistence\": persistences,\n",
    "        }\n",
    "    )\n",
    "\n",
    "    return summary_df\n",
    "\n",
    "\n",
    "summary_df = get_summary_statistics(df_all)\n",
    "summary_df"
   ]
  },
  {
   "cell_type": "code",
   "execution_count": 145,
   "metadata": {
    "ExecuteTime": {
     "end_time": "2023-12-04T15:59:05.285366Z",
     "start_time": "2023-12-04T15:59:04.825143Z"
    }
   },
   "outputs": [
    {
     "data": {
      "image/png": "[encoded data removed]",
      "text/plain": [
       "<Figure size 500x500 with 4 Axes>"
      ]
     },
     "metadata": {},
     "output_type": "display_data"
    }
   ],
   "source": [
    "import matplotlib.pyplot as plt\n",
    "\n",
    "fig, axs = plt.subplots(2, 2, figsize=(5, 5), sharex=False)\n",
    "\n",
    "axs = axs.flatten()\n",
    "axs[0].hist(summary_df[\"lifetime\"], bins=10)\n",
    "axs[0].set_title(\"Lifetime [s]\")\n",
    "\n",
    "axs[1].hist(summary_df[\"avg_size\"], bins=10)\n",
    "axs[1].set_title(\"Average Size [px]\")\n",
    "\n",
    "axs[2].hist(summary_df[\"avg_velocity\"], bins=10)\n",
    "axs[2].set_title(\"Average Centorid Velocity \\n [px/s]\")\n",
    "\n",
    "axs[3].hist(summary_df[\"persistence\"], bins=10)\n",
    "axs[3].set_title(\"Persistence [ratio]\")\n",
    "\n",
    "plt.tight_layout()\n",
    "# plt.show()\n",
    "plt.savefig(\"summary_stats_fibers.png\")"
   ]
  },
  {
   "cell_type": "code",
   "execution_count": null,
   "metadata": {
    "ExecuteTime": {
     "end_time": "2023-12-04T15:59:05.291032Z",
     "start_time": "2023-12-04T15:59:05.284115Z"
    }
   },
   "outputs": [],
   "source": [
    "summary_df.persistence.mean()"
   ]
  },
  {
   "cell_type": "code",
   "execution_count": null,
   "metadata": {
    "ExecuteTime": {
     "end_time": "2023-12-04T15:59:05.636181Z",
     "start_time": "2023-12-04T15:59:05.294946Z"
    }
   },
   "outputs": [],
   "source": [
    "# add origin and end points to to napari at their respective frames\n",
    "viewer = napari.current_viewer()\n",
    "viewer.add_points(\n",
    "    summary_df[[\"origin_t\", \"origin_x\", \"origin_y\"]].values,\n",
    "    name=\"origin\",\n",
    "    face_color=\"red\",\n",
    "    symbol=\"cross\",\n",
    "    size=10,\n",
    "    n_dimensional=True,\n",
    ")\n",
    "viewer.add_points(\n",
    "    summary_df[[\"end_t\", \"end_x\", \"end_y\"]].values,\n",
    "    name=\"end\",\n",
    "    face_color=\"blue\",\n",
    "    symbol=\"cross\",\n",
    "    size=10,\n",
    "    n_dimensional=True,\n",
    ")"
   ]
  },
  {
   "cell_type": "code",
   "execution_count": null,
   "metadata": {
    "ExecuteTime": {
     "end_time": "2023-12-04T15:59:05.636373Z",
     "start_time": "2023-12-04T15:59:05.635024Z"
    },
    "collapsed": false
   },
   "outputs": [],
   "source": []
  },
  {
   "cell_type": "markdown",
   "metadata": {
    "collapsed": false
   },
   "source": []
  },
  {
   "cell_type": "code",
   "execution_count": 65,
   "metadata": {
    "ExecuteTime": {
     "end_time": "2023-12-04T15:59:06.918825Z",
     "start_time": "2023-12-04T15:59:05.635203Z"
    },
    "collapsed": false
   },
   "outputs": [
    {
     "name": "stderr",
     "output_type": "stream",
     "text": [
      "C:\\Users\\benig\\AppData\\Local\\Temp\\ipykernel_18612\\434070959.py:24: UserWarning: color is redundantly defined by the 'color' keyword argument and the fmt string \"r.\" (-> color='r'). The keyword argument will take precedence.\n",
      "  ax.plot(outer_line[:, 1], outer_line[:, 0], 'r.', markersize=0.2, color=color)\n"
     ]
    },
    {
     "data": {
      "image/png": "[encoded data removed]",
      "text/plain": [
       "<Figure size 500x500 with 1 Axes>"
      ]
     },
     "metadata": {},
     "output_type": "display_data"
    }
   ],
   "source": [
    "\n",
    "# fit spline to outline of the cell \n",
    "from scipy.interpolate import splprep, splev\n",
    "from skimage import measure\n",
    "# plot the spline\n",
    "# black theme\n",
    "plt.style.use('dark_background')\n",
    "fig, ax = plt.subplots(figsize=(5, 5))\n",
    "# get the outline of the cell\n",
    "for idx, i ins enumerate(dist_transform_upscaled):\n",
    "    if idx % 100 != 0:\n",
    "        continue\n",
    "    outer_line = np.where(i == 1) \n",
    "    outer_line = np.stack(outer_line, axis=1)\n",
    "\n",
    "    # get the spline representation of the outline\n",
    "    tck, u = splprep(outer_line.T, u=None, s=0.0, per=1)\n",
    "    # evaluate the spline, including interpolated points\n",
    "    xnew, ynew = splev(np.linspace(0, 1, 400), tck, der=0)\n",
    "\n",
    "\n",
    "    # ax.imshow(stable_fibre[0, ..., 0], cmap='gray')\n",
    "    # get a color from the color map\n",
    "    color = plt.cm.viridis(idx/len(dist_transform_upscaled))\n",
    "    ax.plot(outer_line[:, 1], outer_line[:, 0], 'r.', markersize=0.2, color=color)\n",
    "    # ax.plot(xnew, ynew, 'b-')\n",
    "    # plt.show()\n",
    "\n",
    "\n",
    "\n",
    "start_points = summary_df[[\"origin_t\", \"origin_x\", \"origin_y\"]].to_numpy()\n",
    "filtered_starting_points = start_points[12:]\n",
    "end_points =  summary_df[[\"end_t\", \"end_x\", \"end_y\"]].to_numpy()\n",
    "filtered_ending_points = end_points[12:]\n",
    "\n",
    "\n",
    "x_points_start = [point[2] for point in filtered_starting_points]\n",
    "y_points_start = [point[1] for point in filtered_starting_points]\n",
    "\n",
    "x_points_end = [point[2] for point in filtered_ending_points]\n",
    "y_points_end = [point[1] for point in filtered_ending_points]\n",
    "\n",
    "plt.scatter(x_points_start, y_points_start, c='red', s=10) \n",
    "plt.scatter(x_points_end, y_points_end, c='blue', s=10)\n",
    "plt.legend(['Starting points', 'Ending points'], loc='upper right')\n",
    "plt.tight_layout()\n",
    "plt.title(f'Starting and ending points')\n",
    "plt.axis('off')  \n",
    "plt.savefig('starting_and_ending_points.png')\n",
    "plt.show()\n"
   ]
  },
  {
   "cell_type": "code",
   "execution_count": null,
   "metadata": {
    "ExecuteTime": {
     "end_time": "2023-12-04T15:59:06.927789Z",
     "start_time": "2023-12-04T15:59:06.918620Z"
    },
    "collapsed": false
   },
   "outputs": [],
   "source": [
    "filtered_df_id_1 = df_all[df_all['id'] == 1]\n",
    "filtered_df_id_1"
   ]
  },
  {
   "cell_type": "code",
   "execution_count": null,
   "metadata": {
    "ExecuteTime": {
     "end_time": "2023-12-04T15:59:08.420332Z",
     "start_time": "2023-12-04T15:59:06.936929Z"
    },
    "collapsed": false
   },
   "outputs": [],
   "source": [
    "import napari\n",
    "import pandas as pd\n",
    "viewer = napari.Viewer()\n",
    "viewer.add_image(stable_fibres[50:-50, ...,0 ], name=\"binned_actin\")\n",
    "\n",
    "# add origin and end points to to napari at their respective frames\n",
    "viewer = napari.current_viewer()\n",
    "viewer.add_points(\n",
    "    summary_df[[\"origin_t\", \"origin_x\", \"origin_y\"]].values,\n",
    "    name=\"origin\",\n",
    "    face_color=\"red\",\n",
    "    symbol=\"cross\",\n",
    "    size=10,\n",
    "    n_dimensional=True,\n",
    ")\n",
    "viewer.add_points(\n",
    "    summary_df[[\"end_t\", \"end_x\", \"end_y\"]].values,\n",
    "    name=\"end\",\n",
    "    face_color=\"blue\",\n",
    "    symbol=\"cross\",\n",
    "    size=10,\n",
    "    n_dimensional=True,\n",
    ")\n",
    "\n",
    "image_data = viewer.layers['binned_actin'].data\n",
    "\n",
    "#slice_index = image_data.shape[0] // 2\n",
    "selected_slice = image_data[0, :, :]\n",
    "\n",
    "start_points = viewer.layers['origin'].data\n",
    "#start_points = start_points[12:]\n",
    "# change the column names to match the summary_df\n",
    "start_points = pd.DataFrame(start_points, columns=['origin_t', 'origin_x', 'origin_y'])\n",
    "merged_df_start = pd.merge(start_points, summary_df[['id', 'origin_x', 'origin_y']], on=['origin_x', 'origin_y'], how='left')\n",
    "\n",
    "end_points = viewer.layers['end'].data\n",
    "end_points = pd.DataFrame(end_points, columns=['end_t', 'end_x', 'end_y'])\n",
    "merged_df_end = pd.merge(end_points, summary_df[['id', 'end_x', 'end_y']], on=['end_x', 'end_y'], how='left')\n",
    "\n",
    "# Merge the DataFrames on 'id'\n",
    "merged_df_full = pd.merge(merged_df_start, merged_df_end, on='id', suffixes=('_start', '_end'))\n",
    "\n",
    "# Calculate differences (dx, dy) for arrow directions\n",
    "merged_df_full['dx'] = merged_df_full['end_x'] - merged_df_full['origin_x']\n",
    "merged_df_full['dy'] = merged_df_full['end_y'] - merged_df_full['origin_y']\n",
    "\n",
    "# Plotting\n",
    "plt.figure(figsize=(8, 8))\n",
    "plt.quiver(merged_df_full['origin_y'], merged_df_full['origin_x'], merged_df_full['dy'], merged_df_full['dx'], angles='xy', scale_units='xy', scale=1, color='green', width=0.003)\n",
    "\n",
    "# Optionally add start and end points\n",
    "plt.scatter(merged_df_full['origin_y'], merged_df_full['origin_x'], color='red', label='Start Points', s=10)\n",
    "plt.scatter(merged_df_full['end_y'], merged_df_full['end_x'], color='blue', label='End Points', s=10)\n",
    "plt.imshow(selected_slice, cmap='gray')  \n",
    "\n",
    "plt.xlabel('X Coordinate')\n",
    "plt.ylabel('Y Coordinate')\n",
    "plt.legend()\n",
    "plt.axis('off')\n",
    "#plt.savefig('arrows_start_end.png',  dpi=300)\n",
    "plt.show()\n",
    "\n"
   ]
  },
  {
   "cell_type": "markdown",
   "metadata": {
    "collapsed": false
   },
   "source": [
    "# Extract Values from the Distance Transformation Map"
   ]
  },
  {
   "cell_type": "code",
   "execution_count": null,
   "metadata": {
    "ExecuteTime": {
     "end_time": "2023-12-04T15:59:08.426525Z",
     "start_time": "2023-12-04T15:59:08.420472Z"
    },
    "collapsed": false
   },
   "outputs": [],
   "source": [
    "import pandas as pd\n",
    "import numpy as np\n",
    "\n",
    "def extract_value(x, y, dist_transform_upscaled, slice_index=0):\n",
    "    # Convert coordinates to integers\n",
    "    x = int(x)\n",
    "    y = int(y)\n",
    "\n",
    "    # Extract value from the distance map\n",
    "    return dist_transform_upscaled[slice_index, x, y]\n",
    "\n",
    "# Apply the function to each row for origin and end points\n",
    "merged_df_full['origin_dist_value'] = merged_df_full.apply(lambda row: extract_value(row['origin_x'], row['origin_y'], dist_transform_upscaled), axis=1)\n",
    "merged_df_full['end_dist_value'] = merged_df_full.apply(lambda row: extract_value(row['end_x'], row['end_y'], dist_transform_upscaled), axis=1)\n",
    "\n",
    "mean_origin_dist_value = np.mean(merged_df_full[\"origin_dist_value\"])\n",
    "mean_end_dist_value = np.mean(merged_df_full[\"end_dist_value\"])\n",
    "\n",
    "print(f\"Mean origin distance value: {mean_origin_dist_value}\")\n",
    "print(f\"Mean end distance value: {mean_end_dist_value}\")\n",
    "\n",
    "#print(dist_transform_upscaled[0, 68, 416])\n"
   ]
  },
  {
   "cell_type": "markdown",
   "metadata": {
    "collapsed": false
   },
   "source": [
    "# check if data is normally distributed"
   ]
  },
  {
   "cell_type": "code",
   "execution_count": null,
   "metadata": {
    "ExecuteTime": {
     "end_time": "2023-12-04T15:59:08.429555Z",
     "start_time": "2023-12-04T15:59:08.424144Z"
    },
    "collapsed": false
   },
   "outputs": [],
   "source": [
    "import numpy as np\n",
    "import scipy.stats as stats\n",
    "\n",
    "# Perform the Shapiro-Wilk test\n",
    "#shapiro_test = stats.shapiro(merged_df_full['origin_dist_value'])\n",
    "shapiro_test = stats.shapiro(merged_df_full['end_dist_value'])\n",
    "\n",
    "\n",
    "print(\"Shapiro-Wilk Test statistic:\", shapiro_test.statistic)\n",
    "print(\"Shapiro-Wilk Test p-value:\", shapiro_test.pvalue)\n",
    "\n",
    "if shapiro_test.pvalue > 0.05:\n",
    "    print(\"Data appears to be normally distributed\")\n",
    "else:\n",
    "    print(\"Data does not appear to be normally distributed\")\n"
   ]
  },
  {
   "cell_type": "code",
   "execution_count": null,
   "metadata": {
    "ExecuteTime": {
     "end_time": "2023-12-04T15:59:08.845508Z",
     "start_time": "2023-12-04T15:59:08.437931Z"
    },
    "collapsed": false
   },
   "outputs": [],
   "source": [
    "import matplotlib.pyplot as plt\n",
    "import scipy.stats as stats\n",
    "\n",
    "fig, axs = plt.subplots(2, 2, figsize=(10, 10))\n",
    "\n",
    "axs[0, 0].hist(merged_df_full['end_dist_value'], bins=30, edgecolor='black', alpha=0.7)\n",
    "axs[0, 0].set_title('Histogram of end_dist_value')\n",
    "axs[0, 0].set_xlabel('Value')\n",
    "axs[0, 0].set_ylabel('Frequency')\n",
    "\n",
    "axs[0, 1].hist(merged_df_full['origin_dist_value'], bins=30, edgecolor='black', alpha=0.7)\n",
    "axs[0, 1].set_title('Histogram of origin_dist_value')\n",
    "axs[0, 1].set_xlabel('Value')\n",
    "axs[0, 1].set_ylabel('Frequency')\n",
    "\n",
    "stats.probplot(merged_df_full['end_dist_value'], dist=\"norm\", plot=axs[1, 0])\n",
    "axs[1, 0].set_title('Q-Q Plot of end_dist_value')\n",
    "\n",
    "stats.probplot(merged_df_full['origin_dist_value'], dist=\"norm\", plot=axs[1, 1])\n",
    "axs[1, 1].set_title('Q-Q Plot of origin_dist_value')\n",
    "\n",
    "plt.tight_layout()\n",
    "plt.show()\n"
   ]
  },
  {
   "cell_type": "markdown",
   "metadata": {
    "collapsed": false
   },
   "source": [
    "# Make log transformation"
   ]
  },
  {
   "cell_type": "code",
   "execution_count": null,
   "metadata": {
    "ExecuteTime": {
     "end_time": "2023-12-04T15:59:09.237798Z",
     "start_time": "2023-12-04T15:59:08.853014Z"
    },
    "collapsed": false
   },
   "outputs": [],
   "source": [
    "import numpy as np\n",
    "import pandas as pd\n",
    "import matplotlib.pyplot as plt\n",
    "import scipy.stats as stats\n",
    "\n",
    "merged_df_full['origin_dist_value'] += 1\n",
    "merged_df_full['end_dist_value'] += 1\n",
    "\n",
    "# Perform log transformation\n",
    "merged_df_full['log_origin_dist_value'] = np.log(merged_df_full['origin_dist_value'])\n",
    "merged_df_full['log_end_dist_value'] = np.log(merged_df_full['end_dist_value'])\n",
    "\n",
    "fig, axs = plt.subplots(2, 2, figsize=(10, 10))\n",
    "\n",
    "axs[0, 0].hist(merged_df_full['log_origin_dist_value'], bins=20, edgecolor='black', alpha=0.7)\n",
    "axs[0, 0].set_title('Histogram of log_origin_dist_value')\n",
    "axs[0, 0].set_xlabel('Value')\n",
    "axs[0, 0].set_ylabel('Frequency')\n",
    "\n",
    "axs[0, 1].hist(merged_df_full['log_end_dist_value'], bins=20, edgecolor='black', alpha=0.7)\n",
    "axs[0, 1].set_title('Histogram of log_end_dist_value')\n",
    "axs[0, 1].set_xlabel('Value')\n",
    "axs[0, 1].set_ylabel('Frequency')\n",
    "\n",
    "stats.probplot(merged_df_full['log_origin_dist_value'], dist=\"norm\", plot=axs[1, 0])\n",
    "axs[1, 0].set_title('Q-Q Plot of log_origin_dist_value')\n",
    "\n",
    "stats.probplot(merged_df_full['log_end_dist_value'], dist=\"norm\", plot=axs[1, 1])\n",
    "axs[1, 1].set_title('Q-Q Plot of log_end_dist_value')\n",
    "\n",
    "plt.tight_layout()\n",
    "plt.show()\n",
    "\n"
   ]
  },
  {
   "cell_type": "code",
   "execution_count": null,
   "metadata": {
    "ExecuteTime": {
     "end_time": "2023-12-04T15:59:09.380647Z",
     "start_time": "2023-12-04T15:59:09.236296Z"
    },
    "collapsed": false
   },
   "outputs": [],
   "source": [
    "import seaborn\n",
    "\n",
    "merged_df_full[\"delta_start_end\"] = merged_df_full[\"origin_dist_value\"] - merged_df_full[\"end_dist_value\"]\n",
    "\n",
    "print(merged_df_full[\"delta_start_end\"].describe())\n",
    "\n",
    "# plot density plot\n",
    "merged_df_full[\"delta_start_end\"].plot(kind=\"density\")\n"
   ]
  },
  {
   "cell_type": "markdown",
   "metadata": {
    "collapsed": false
   },
   "source": [
    "# make statistical test"
   ]
  },
  {
   "cell_type": "markdown",
   "metadata": {
    "collapsed": false
   },
   "source": [
    "# Wilcoxon Signed-Rank Test"
   ]
  },
  {
   "cell_type": "code",
   "execution_count": null,
   "metadata": {
    "ExecuteTime": {
     "end_time": "2023-12-04T15:59:09.380842Z",
     "start_time": "2023-12-04T15:59:09.371297Z"
    },
    "collapsed": false
   },
   "outputs": [],
   "source": [
    "from scipy.stats import wilcoxon\n",
    "\n",
    "# If data is normally distributed, use paired t-test\n",
    "# t_statistic, p_value = ttest_rel(merged_df_full['origin_dist_value'], merged_df_full['end_dist_value'])\n",
    "# print(\"Paired t-test results: t-statistic =\", t_statistic, \", p-value =\", p_value)\n",
    "\n",
    "# since data is not normally distributed, use Wilcoxon signed-rank test\n",
    "# w_statistic, p_value = wilcoxon(merged_df_full['origin_dist_value'], merged_df_full['end_dist_value'])\n",
    "start_end_differences = merged_df_full['delta_start_end'].to_numpy()\n",
    "wilcoxon_test = wilcoxon(start_end_differences)\n",
    "w_statistic, p_value = wilcoxon_test\n",
    "#print(len(start_end_differences))\n",
    "print(\"Wilcoxon statistic =\", w_statistic, \", p-value =\", p_value)\n"
   ]
  },
  {
   "cell_type": "code",
   "execution_count": null,
   "metadata": {
    "ExecuteTime": {
     "end_time": "2023-12-04T15:59:09.380897Z",
     "start_time": "2023-12-04T15:59:09.378842Z"
    },
    "collapsed": false
   },
   "outputs": [],
   "source": [
    "import numpy as np\n",
    "from scipy.stats import norm\n",
    "\n",
    "differences = merged_df_full['delta_start_end'].to_numpy()\n",
    "\n",
    "non_zero_differences = np.array([d for d in differences if d != 0])\n",
    "ranks = np.argsort(np.argsort(np.abs(non_zero_differences))) + 1\n",
    "\n",
    "# Assign signs to ranks\n",
    "signed_ranks = ranks * np.sign(non_zero_differences)\n",
    "\n",
    "# Calculate sum of positive and negative ranks\n",
    "W_pos = np.sum(signed_ranks[signed_ranks > 0])\n",
    "W_neg = np.abs(np.sum(signed_ranks[signed_ranks < 0]))\n",
    "\n",
    "# Test statistic is the smaller of W_pos and W_neg\n",
    "W = min(W_pos, W_neg)\n",
    "\n",
    "# For large samples, approximate the p-value using a normal distribution\n",
    "n = len(non_zero_differences)\n",
    "mean_W = n * (n + 1) / 4\n",
    "std_W = np.sqrt(n * (n + 1) * (2 * n + 1) / 24)\n",
    "z = (W - mean_W) / std_W\n",
    "p_value = 2 * norm.cdf(z)\n",
    "\n",
    "print(\"Wilcoxon Signed-Rank Test statistic:\", W)\n",
    "print(\"P-value:\", p_value)\n"
   ]
  },
  {
   "cell_type": "markdown",
   "metadata": {
    "collapsed": false
   },
   "source": [
    "# Correlation of starting Distance to border and magnitude of differences"
   ]
  },
  {
   "cell_type": "code",
   "execution_count": null,
   "metadata": {
    "ExecuteTime": {
     "end_time": "2023-12-04T15:59:09.520482Z",
     "start_time": "2023-12-04T15:59:09.383221Z"
    },
    "collapsed": false
   },
   "outputs": [],
   "source": [
    "import matplotlib.pyplot as plt\n",
    "import numpy as np\n",
    "import scipy.stats as stats\n",
    "\n",
    "# Assuming merged_df_full['origin_dist_value'] and merged_df_full['delta_start_end'] are defined\n",
    "x = merged_df_full['origin_dist_value']\n",
    "y = merged_df_full['delta_start_end']\n",
    "\n",
    "# Perform linear regression\n",
    "slope, intercept, r_value, p_value, std_err = stats.linregress(x, y)\n",
    "\n",
    "# Calculate R^2 value\n",
    "r_squared = r_value**2\n",
    "\n",
    "# Scatter plot\n",
    "plt.scatter(x, y)\n",
    "plt.xlabel('Starting distance to border of cell')\n",
    "plt.ylabel('Difference in start and end points')\n",
    "plt.title(\"Correlation of starting distance to border and magnitude of differences\")\n",
    "\n",
    "# Plot the regression line\n",
    "regression_line = slope * x + intercept\n",
    "plt.plot(x, regression_line, color='red')  # You can change the color if needed\n",
    "\n",
    "# Annotate the plot with R^2 and p-value\n",
    "plt.annotate(f'R^2 = {r_squared:.3f}', xy=(0.05, 0.95), xycoords='axes fraction')\n",
    "plt.annotate(f'p-value = {p_value:.3g}', xy=(0.05, 0.90), xycoords='axes fraction')\n",
    "\n",
    "plt.show()\n",
    "\n",
    "\n"
   ]
  },
  {
   "cell_type": "code",
   "execution_count": null,
   "metadata": {
    "ExecuteTime": {
     "end_time": "2023-12-04T15:59:09.622959Z",
     "start_time": "2023-12-04T15:59:09.496286Z"
    },
    "collapsed": false
   },
   "outputs": [],
   "source": [
    "import matplotlib.pyplot as plt\n",
    "import numpy as np\n",
    "import scipy.stats as stats\n",
    "\n",
    "x = merged_df_full['end_dist_value']\n",
    "y = merged_df_full['delta_start_end']\n",
    "\n",
    "# Perform linear regression\n",
    "slope, intercept, r_value, p_value, std_err = stats.linregress(x, y)\n",
    "\n",
    "# Calculate R^2 value\n",
    "r_squared = r_value**2\n",
    "\n",
    "# Scatter plot\n",
    "plt.scatter(x, y)\n",
    "plt.xlabel('Ending distance to border of cell')\n",
    "plt.ylabel('Difference in start and end points')\n",
    "plt.title(\"Correlation of ending distance to border and magnitude of differences\")\n",
    "\n",
    "# Plot the regression line\n",
    "regression_line = slope * x + intercept\n",
    "plt.plot(x, regression_line, color='red')  # You can change the color if needed\n",
    "\n",
    "# Annotate the plot with R^2 and p-value\n",
    "plt.annotate(f'R^2 = {r_squared:.3f}', xy=(0.05, 0.95), xycoords='axes fraction')\n",
    "plt.annotate(f'p-value = {p_value:.3g}', xy=(0.05, 0.90), xycoords='axes fraction')\n",
    "\n",
    "plt.show()"
   ]
  },
  {
   "cell_type": "code",
   "execution_count": null,
   "metadata": {
    "ExecuteTime": {
     "end_time": "2023-12-04T15:59:09.703579Z",
     "start_time": "2023-12-04T15:59:09.618787Z"
    },
    "collapsed": false
   },
   "outputs": [],
   "source": [
    "import matplotlib.pyplot as plt\n",
    "import numpy as np\n",
    "import scipy.stats as stats\n",
    "\n",
    "x = merged_df_full['end_dist_value']\n",
    "y = merged_df_full['origin_dist_value']\n",
    "\n",
    "# Perform linear regression\n",
    "slope, intercept, r_value, p_value, std_err = stats.linregress(x, y)\n",
    "\n",
    "# Calculate R^2 value\n",
    "r_squared = r_value**2\n",
    "\n",
    "# Scatter plot\n",
    "plt.scatter(x, y)\n",
    "plt.xlabel('Ending distance to border of cell')\n",
    "plt.ylabel('Starting distance to border of cell')\n",
    "plt.title(\"\")\n",
    "\n",
    "# Plot the regression line\n",
    "regression_line = slope * x + intercept\n",
    "plt.plot(x, regression_line, color='red')  # You can change the color if needed\n",
    "\n",
    "# Annotate the plot with R^2 and p-value\n",
    "plt.annotate(f'R^2 = {r_squared:.3f}', xy=(0.05, 0.95), xycoords='axes fraction')\n",
    "plt.annotate(f'p-value = {p_value:.3g}', xy=(0.05, 0.90), xycoords='axes fraction')\n",
    "\n",
    "plt.show()"
   ]
  },
  {
   "cell_type": "markdown",
   "metadata": {
    "collapsed": false
   },
   "source": [
    "# Sign Test"
   ]
  },
  {
   "cell_type": "code",
   "execution_count": null,
   "metadata": {
    "ExecuteTime": {
     "end_time": "2023-12-04T15:59:09.709162Z",
     "start_time": "2023-12-04T15:59:09.702724Z"
    },
    "collapsed": false
   },
   "outputs": [],
   "source": [
    "import statsmodels\n",
    "from scipy.stats import binom\n",
    "\n",
    "start_end_differences = merged_df_full['delta_start_end'].to_numpy()\n",
    "\n",
    "# Remove zeros and count positive and negative differences\n",
    "non_zero_differences = [d for d in start_end_differences if d != 0]\n",
    "num_positive = sum(1 for d in non_zero_differences if d > 0)\n",
    "num_negative = len(non_zero_differences) - num_positive\n",
    "\n",
    "# Calculate the test statistic (the smaller of num_positive and num_negative)\n",
    "test_statistic = min(num_positive, num_negative)\n",
    "\n",
    "# Total number of non-zero observations\n",
    "n = len(non_zero_differences)\n",
    "\n",
    "# Calculate the p-value (two-tailed test)\n",
    "p_value = 2 * binom.cdf(test_statistic, n, 0.5)\n",
    "\n",
    "print(\"Sign test statistic:\", test_statistic)\n",
    "print(\"P-value:\", p_value)\n",
    "\n"
   ]
  },
  {
   "cell_type": "code",
   "execution_count": null,
   "metadata": {
    "ExecuteTime": {
     "end_time": "2023-12-04T15:59:09.923416Z",
     "start_time": "2023-12-04T15:59:09.714850Z"
    },
    "collapsed": false
   },
   "outputs": [],
   "source": [
    "import matplotlib.pyplot as plt\n",
    "\n",
    "# Create a figure with 1 row and 2 columns\n",
    "fig, axs = plt.subplots(1, 2, figsize=(10, 5))  # Adjusted figsize for better aspect ratio\n",
    "\n",
    "# Plot on the first subplot\n",
    "axs[0].hist(merged_df_full['delta_start_end'], bins=20, edgecolor='black', alpha=0.7)\n",
    "axs[0].set_title('Histogram of delta_start_end')\n",
    "axs[0].set_xlabel('Value')\n",
    "axs[0].set_ylabel('Frequency')\n",
    "\n",
    "# Plot on the second subplot\n",
    "stats.probplot(merged_df_full['delta_start_end'], dist=\"norm\", plot=axs[1])\n",
    "axs[1].set_title('QQ-plot of delta_start_end')\n",
    "axs[1].set_xlabel('Value')\n",
    "axs[1].set_ylabel('Frequency')\n",
    "\n",
    "# Adjust layout and display the plot\n",
    "plt.tight_layout()\n",
    "plt.show()\n"
   ]
  },
  {
   "cell_type": "markdown",
   "metadata": {
    "collapsed": false
   },
   "source": [
    "# Labeling of individual IDs"
   ]
  },
  {
   "cell_type": "markdown",
   "metadata": {
    "collapsed": false
   },
   "source": [
    "## Create boolean mask for ID = 1"
   ]
  },
  {
   "cell_type": "code",
   "execution_count": 66,
   "metadata": {
    "ExecuteTime": {
     "end_time": "2023-12-04T15:59:10.588836Z",
     "start_time": "2023-12-04T15:59:09.923048Z"
    },
    "collapsed": false
   },
   "outputs": [
    {
     "name": "stdout",
     "output_type": "stream",
     "text": [
      "total number of IDs: [  0   1   2   3   4   5   6   7   8   9  10  12  13  21  22  23  25  27\n",
      "  28  31  32  33  34  35  36  37  39  40  41  43  46  47  48  50  51  52\n",
      "  55  57  59  60  61  63  65  66  70  74  76  79  82  91  94  97 100 103\n",
      " 104 107 109 110 111 113 114 115 116 117 120 121 122 125 128 131 133 136\n",
      " 137 138 139 140 144 147 151 152 153 154 156 158 161 163 164 166 169 173\n",
      " 177 179 181 183 187 188 192 197 198 199 201 204 206 207 208 209 211 213\n",
      " 217 220 223 224 225 230 232 234 237 242 244 246 247 249 252 253 255 258\n",
      " 260 263 264 267]\n"
     ]
    },
    {
     "name": "stderr",
     "output_type": "stream",
     "text": [
      "WARNING: Traceback (most recent call last):\n",
      "  File \"<frozen runpy>\", line 198, in _run_module_as_main\n",
      "  File \"<frozen runpy>\", line 88, in _run_code\n",
      "  File \"c:\\Users\\benig\\miniconda3\\envs\\imageanalysis\\Lib\\site-packages\\ipykernel_launcher.py\", line 17, in <module>\n",
      "    app.launch_new_instance()\n",
      "  File \"c:\\Users\\benig\\miniconda3\\envs\\imageanalysis\\Lib\\site-packages\\traitlets\\config\\application.py\", line 1043, in launch_instance\n",
      "    app.start()\n",
      "  File \"c:\\Users\\benig\\miniconda3\\envs\\imageanalysis\\Lib\\site-packages\\ipykernel\\kernelapp.py\", line 736, in start\n",
      "    self.io_loop.start()\n",
      "  File \"c:\\Users\\benig\\miniconda3\\envs\\imageanalysis\\Lib\\site-packages\\tornado\\platform\\asyncio.py\", line 195, in start\n",
      "    self.asyncio_loop.run_forever()\n",
      "  File \"c:\\Users\\benig\\miniconda3\\envs\\imageanalysis\\Lib\\asyncio\\base_events.py\", line 607, in run_forever\n",
      "    self._run_once()\n",
      "  File \"c:\\Users\\benig\\miniconda3\\envs\\imageanalysis\\Lib\\asyncio\\base_events.py\", line 1922, in _run_once\n",
      "    handle._run()\n",
      "  File \"c:\\Users\\benig\\miniconda3\\envs\\imageanalysis\\Lib\\asyncio\\events.py\", line 80, in _run\n",
      "    self._context.run(self._callback, *self._args)\n",
      "  File \"c:\\Users\\benig\\miniconda3\\envs\\imageanalysis\\Lib\\site-packages\\ipykernel\\kernelbase.py\", line 516, in dispatch_queue\n",
      "    await self.process_one()\n",
      "  File \"c:\\Users\\benig\\miniconda3\\envs\\imageanalysis\\Lib\\site-packages\\ipykernel\\kernelbase.py\", line 505, in process_one\n",
      "    await dispatch(*args)\n",
      "  File \"c:\\Users\\benig\\miniconda3\\envs\\imageanalysis\\Lib\\site-packages\\ipykernel\\kernelbase.py\", line 412, in dispatch_shell\n",
      "    await result\n",
      "  File \"c:\\Users\\benig\\miniconda3\\envs\\imageanalysis\\Lib\\site-packages\\ipykernel\\kernelbase.py\", line 740, in execute_request\n",
      "    reply_content = await reply_content\n",
      "  File \"c:\\Users\\benig\\miniconda3\\envs\\imageanalysis\\Lib\\site-packages\\ipykernel\\ipkernel.py\", line 422, in do_execute\n",
      "    res = shell.run_cell(\n",
      "  File \"c:\\Users\\benig\\miniconda3\\envs\\imageanalysis\\Lib\\site-packages\\ipykernel\\zmqshell.py\", line 546, in run_cell\n",
      "    return super().run_cell(*args, **kwargs)\n",
      "  File \"c:\\Users\\benig\\miniconda3\\envs\\imageanalysis\\Lib\\site-packages\\IPython\\core\\interactiveshell.py\", line 3009, in run_cell\n",
      "    result = self._run_cell(\n",
      "  File \"c:\\Users\\benig\\miniconda3\\envs\\imageanalysis\\Lib\\site-packages\\IPython\\core\\interactiveshell.py\", line 3064, in _run_cell\n",
      "    result = runner(coro)\n",
      "  File \"c:\\Users\\benig\\miniconda3\\envs\\imageanalysis\\Lib\\site-packages\\IPython\\core\\async_helpers.py\", line 129, in _pseudo_sync_runner\n",
      "    coro.send(None)\n",
      "  File \"c:\\Users\\benig\\miniconda3\\envs\\imageanalysis\\Lib\\site-packages\\IPython\\core\\interactiveshell.py\", line 3269, in run_cell_async\n",
      "    has_raised = await self.run_ast_nodes(code_ast.body, cell_name,\n",
      "  File \"c:\\Users\\benig\\miniconda3\\envs\\imageanalysis\\Lib\\site-packages\\IPython\\core\\interactiveshell.py\", line 3448, in run_ast_nodes\n",
      "    if await self.run_code(code, result, async_=asy):\n",
      "  File \"c:\\Users\\benig\\miniconda3\\envs\\imageanalysis\\Lib\\site-packages\\IPython\\core\\interactiveshell.py\", line 3508, in run_code\n",
      "    exec(code_obj, self.user_global_ns, self.user_ns)\n",
      "  File \"C:\\Users\\benig\\AppData\\Local\\Temp\\ipykernel_18612\\1536621700.py\", line 16, in <module>\n",
      "    viewer.add_labels(boolean_mask, name='boolean_mask_layer')\n",
      "  File \"c:\\Users\\benig\\miniconda3\\envs\\imageanalysis\\Lib\\site-packages\\napari\\components\\viewer_model.py\", line 5, in add_labels\n",
      "    import os\n",
      "  File \"<frozen _collections_abc>\", line 1078, in append\n",
      "  File \"c:\\Users\\benig\\miniconda3\\envs\\imageanalysis\\Lib\\site-packages\\napari\\components\\layerlist.py\", line 167, in insert\n",
      "    super().insert(index, new_layer)\n",
      "  File \"c:\\Users\\benig\\miniconda3\\envs\\imageanalysis\\Lib\\site-packages\\napari\\utils\\events\\containers\\_selectable_list.py\", line 66, in insert\n",
      "    super().insert(index, value)\n",
      "  File \"c:\\Users\\benig\\miniconda3\\envs\\imageanalysis\\Lib\\site-packages\\napari\\utils\\events\\containers\\_evented_list.py\", line 195, in insert\n",
      "    self.events.inserted(index=index, value=value)\n",
      "  File \"c:\\Users\\benig\\miniconda3\\envs\\imageanalysis\\Lib\\site-packages\\napari\\utils\\events\\event.py\", line 763, in __call__\n",
      "    self._invoke_callback(cb, event if pass_event else None)\n",
      "  File \"c:\\Users\\benig\\miniconda3\\envs\\imageanalysis\\Lib\\site-packages\\napari\\utils\\events\\event.py\", line 788, in _invoke_callback\n",
      "    cb(event)\n",
      "  File \"c:\\Users\\benig\\miniconda3\\envs\\imageanalysis\\Lib\\site-packages\\napari\\_qt\\qt_viewer.py\", line 649, in _on_add_layer_change\n",
      "    self._add_layer(layer)\n",
      "  File \"c:\\Users\\benig\\miniconda3\\envs\\imageanalysis\\Lib\\site-packages\\napari\\_qt\\qt_viewer.py\", line 673, in _add_layer\n",
      "    vispy_layer.node.parent = self.view.scene\n",
      "  File \"c:\\Users\\benig\\miniconda3\\envs\\imageanalysis\\Lib\\site-packages\\vispy\\util\\frozen.py\", line 17, in __setattr__\n",
      "    object.__setattr__(self, key, value)\n",
      "  File \"c:\\Users\\benig\\miniconda3\\envs\\imageanalysis\\Lib\\site-packages\\vispy\\scene\\node.py\", line 200, in parent\n",
      "    self._set_canvas(parent.canvas)\n",
      "  File \"c:\\Users\\benig\\miniconda3\\envs\\imageanalysis\\Lib\\site-packages\\vispy\\scene\\node.py\", line 317, in _set_canvas\n",
      "    self.transforms.canvas_transform = tr.canvas_transform\n",
      "  File \"c:\\Users\\benig\\miniconda3\\envs\\imageanalysis\\Lib\\site-packages\\vispy\\visuals\\transforms\\transform_system.py\", line 301, in canvas_transform\n",
      "    self._canvas_transform.transforms = tr\n",
      "  File \"c:\\Users\\benig\\miniconda3\\envs\\imageanalysis\\Lib\\site-packages\\vispy\\visuals\\transforms\\chain.py\", line 96, in transforms\n",
      "    self.update()\n",
      "  File \"c:\\Users\\benig\\miniconda3\\envs\\imageanalysis\\Lib\\site-packages\\vispy\\visuals\\transforms\\base_transform.py\", line 148, in update\n",
      "    self.changed(*args)\n",
      "  File \"c:\\Users\\benig\\miniconda3\\envs\\imageanalysis\\Lib\\site-packages\\vispy\\util\\event.py\", line 453, in __call__\n",
      "    self._invoke_callback(cb, event)\n",
      "  File \"c:\\Users\\benig\\miniconda3\\envs\\imageanalysis\\Lib\\site-packages\\vispy\\util\\event.py\", line 469, in _invoke_callback\n",
      "    cb(event)\n",
      "  File \"c:\\Users\\benig\\miniconda3\\envs\\imageanalysis\\Lib\\site-packages\\vispy\\util\\event.py\", line 453, in __call__\n",
      "    self._invoke_callback(cb, event)\n",
      "  File \"c:\\Users\\benig\\miniconda3\\envs\\imageanalysis\\Lib\\site-packages\\vispy\\util\\event.py\", line 471, in _invoke_callback\n",
      "    _handle_exception(self.ignore_callback_errors,\n",
      "  << caught exception here: >>\n",
      "  File \"c:\\Users\\benig\\miniconda3\\envs\\imageanalysis\\Lib\\site-packages\\vispy\\util\\event.py\", line 469, in _invoke_callback\n",
      "    cb(event)\n",
      "  File \"c:\\Users\\benig\\miniconda3\\envs\\imageanalysis\\Lib\\site-packages\\vispy\\visuals\\visual.py\", line 268, in _transform_changed\n",
      "    self.update()\n",
      "  File \"c:\\Users\\benig\\miniconda3\\envs\\imageanalysis\\Lib\\site-packages\\vispy\\scene\\node.py\", line 334, in update\n",
      "    c.update(node=self)\n",
      "  File \"c:\\Users\\benig\\miniconda3\\envs\\imageanalysis\\Lib\\site-packages\\vispy\\scene\\canvas.py\", line 202, in update\n",
      "    super(SceneCanvas, self).update()\n",
      "  File \"c:\\Users\\benig\\miniconda3\\envs\\imageanalysis\\Lib\\site-packages\\vispy\\app\\canvas.py\", line 448, in update\n",
      "    self._backend._vispy_update()\n",
      "  File \"c:\\Users\\benig\\miniconda3\\envs\\imageanalysis\\Lib\\site-packages\\vispy\\app\\backends\\_qt.py\", line 480, in _vispy_update\n",
      "    self.update()\n",
      "RuntimeError: wrapped C/C++ object of type CanvasBackendDesktop has been deleted\n",
      "ERROR: Invoking <bound method BaseVisual._transform_changed of <LabelNode at 0x17e3219ce10>> for Event\n"
     ]
    },
    {
     "data": {
      "text/plain": [
       "<Labels layer 'boolean_mask_layer' at 0x17e2f4e8e90>"
      ]
     },
     "execution_count": 66,
     "metadata": {},
     "output_type": "execute_result"
    }
   ],
   "source": [
    "import napari\n",
    "\n",
    "segmented_data = events_upscaled\n",
    "\n",
    "specific_id = 1\n",
    "\n",
    "# Create boolean mask\n",
    "boolean_mask = segmented_data == specific_id\n",
    "\n",
    "total_nbr_of_IDs = np.unique(segmented_data)  # unique instead of max to account for IDs that are not present in the image\n",
    "print(f\"total number of IDs: {total_nbr_of_IDs}\")\n",
    "\n",
    "# convert to int \n",
    "# int_mask = boolean_mask.astype(int)\n",
    "\n",
    "# viewer.add_labels(boolean_mask, name='boolean_mask_layer')\n"
   ]
  },
  {
   "cell_type": "markdown",
   "metadata": {
    "collapsed": false
   },
   "source": [
    "## label boolean mask from ID = 1 into individual segments"
   ]
  },
  {
   "cell_type": "code",
   "execution_count": null,
   "metadata": {
    "ExecuteTime": {
     "end_time": "2023-12-04T15:59:11.568463Z",
     "start_time": "2023-12-04T15:59:10.588045Z"
    },
    "collapsed": false
   },
   "outputs": [],
   "source": [
    "# start the viewer\n",
    "viewer = napari.Viewer()\n",
    "viewer.add_image(stable_fibres[50:-50, ...,0 ], name=\"binned_actin\")\n",
    "viewer.add_labels(events_upscaled, name=\"events_1\")"
   ]
  },
  {
   "cell_type": "code",
   "execution_count": 67,
   "metadata": {
    "ExecuteTime": {
     "end_time": "2023-12-04T15:59:12.786053Z",
     "start_time": "2023-12-04T15:59:11.569643Z"
    },
    "collapsed": false
   },
   "outputs": [
    {
     "name": "stdout",
     "output_type": "stream",
     "text": [
      "9\n"
     ]
    }
   ],
   "source": [
    "from scipy.ndimage import label\n",
    "\n",
    "# 'labeled_results' will be a list of tuples, where each tuple contains (labeled_array, num_features) for each time step\n",
    "labeled_results = [label(frame) for frame in boolean_mask]\n",
    "labeled_arrays = [result[0] for result in labeled_results]\n",
    "num_features = [result[1] for result in labeled_results]\n",
    "\n",
    "# Stack the labeled arrays along a dimension\n",
    "stacked_array_id_1 = np.stack(labeled_arrays, axis=0)\n",
    "# 'stacked_array' is now a 3D numpy array where each 'slice' along the third dimension is a labeled time step\n",
    "print(max(num_features))   \n",
    "#labeled_array, num_features = stacked_array\n",
    "\n",
    "#print('Number of features:', num_features)\n",
    "# viewer.add_labels(stacked_array_id_1, name='labelled_mask_layer_ID_1')"
   ]
  },
  {
   "cell_type": "markdown",
   "metadata": {
    "collapsed": false
   },
   "source": [
    "# Create regionprops table for individual ID segments (here ID = 1)"
   ]
  },
  {
   "cell_type": "code",
   "execution_count": null,
   "metadata": {},
   "outputs": [],
   "source": [
    "(255,255)"
   ]
  },
  {
   "cell_type": "code",
   "execution_count": null,
   "metadata": {},
   "outputs": [],
   "source": [
    "label_image = np.zeros()\n",
    "for idx, e in enumerate(intensity_image):\n",
    "    props = regionprops_table(label_image, properties=(\"label\", \"area\", \"centroid\", 'intensity_mean'), intensity_image=actin[idx][:, :1160])\n",
    "    df_temp = pd.DataFrame(props)\n",
    "    df_temp[\"frame\"] = idx\n",
    "    df_all_id_1.append(df_temp)"
   ]
  },
  {
   "cell_type": "code",
   "execution_count": null,
   "metadata": {
    "ExecuteTime": {
     "end_time": "2023-12-04T15:59:14.210634Z",
     "start_time": "2023-12-04T15:59:12.784070Z"
    },
    "collapsed": false
   },
   "outputs": [],
   "source": [
    "from skimage.measure import regionprops_table\n",
    "\n",
    "df_all_id_1 = []\n",
    "for idx, e in enumerate(stacked_array_id_1):\n",
    "    props = regionprops_table(e, properties=(\"label\", \"area\", \"centroid\", 'intensity_mean'), intensity_image=actin[idx][:, :1160])\n",
    "    df_temp = pd.DataFrame(props)\n",
    "    df_temp[\"frame\"] = idx\n",
    "    df_all_id_1.append(df_temp)\n",
    "\n",
    "df_all_id_1 = pd.concat(df_all_id_1)\n",
    "\n",
    "df_all_id_1.rename(columns={\"centroid-0\": \"x\", \"centroid-1\": \"y\", \"label\": \"id\"}, inplace=True)\n",
    "df_all_id_1"
   ]
  },
  {
   "cell_type": "code",
   "execution_count": null,
   "metadata": {
    "collapsed": false
   },
   "outputs": [],
   "source": [
    "from trackpy import link_df\n",
    "\n",
    "trackpy_df_id_1 = pd.DataFrame(df_all_id_1[['x', 'y', 'frame']])\n",
    "\n",
    "linked_df_id_1 = link_df(trackpy_df_id_1, search_range=10)\n",
    "linked_df_id_1\n"
   ]
  },
  {
   "cell_type": "markdown",
   "metadata": {
    "collapsed": false
   },
   "source": [
    "# Add tracks of \"particles\" to napari"
   ]
  },
  {
   "cell_type": "code",
   "execution_count": null,
   "metadata": {
    "ExecuteTime": {
     "end_time": "2023-12-04T15:59:16.173980Z",
     "start_time": "2023-12-04T15:59:14.954605Z"
    },
    "collapsed": false
   },
   "outputs": [],
   "source": [
    "reordered_columns = linked_df_id_1[[\"particle\", \"frame\", \"x\", \"y\"]]\n",
    "\n",
    "reordered_columns_sorted_id_1 = reordered_columns.sort_values(by=[\"particle\"], ascending=True)\n",
    "\n",
    "viewer.add_tracks(reordered_columns_sorted_id_1, name=\"tracks\")"
   ]
  },
  {
   "cell_type": "markdown",
   "metadata": {
    "collapsed": false
   },
   "source": [
    "# Velocity calculation"
   ]
  },
  {
   "cell_type": "code",
   "execution_count": null,
   "metadata": {
    "ExecuteTime": {
     "end_time": "2023-12-04T15:59:16.586392Z",
     "start_time": "2023-12-04T15:59:15.063409Z"
    },
    "collapsed": false
   },
   "outputs": [],
   "source": [
    "import pandas as pd\n",
    "import numpy as np\n",
    "\n",
    "linked_df_id_1.sort_values(by=['particle', 'frame'], inplace=True)\n",
    "\n",
    "# Calculate displacement in x and y for each particle\n",
    "linked_df_id_1['dx'] = linked_df_id_1.groupby('particle')['x'].diff().fillna(0)\n",
    "linked_df_id_1['dy'] = linked_df_id_1.groupby('particle')['y'].diff().fillna(0)\n",
    "\n",
    "linked_df_id_1['velocity'] = np.sqrt(linked_df_id_1['dx']**2 + linked_df_id_1['dy']**2)\n",
    "\n",
    "average_velocity = linked_df_id_1.groupby('particle')['velocity'].mean()\n",
    "\n",
    "print(average_velocity)\n",
    "\n",
    "linked_df_id_1\n"
   ]
  },
  {
   "cell_type": "code",
   "execution_count": null,
   "metadata": {
    "ExecuteTime": {
     "end_time": "2023-12-04T15:59:16.826015Z",
     "start_time": "2023-12-04T15:59:15.089444Z"
    },
    "collapsed": false
   },
   "outputs": [],
   "source": [
    "data = np.array(average_velocity)\n",
    "\n",
    "plt.plot(data, linestyle='None', marker = \"o\", ms=2)\n",
    "plt.xlabel(\"Particle ID\")\n",
    "plt.ylabel(\"Velocity Magnitude\")"
   ]
  },
  {
   "cell_type": "markdown",
   "metadata": {
    "collapsed": false
   },
   "source": [
    "# Velocity Calculation for all IDs in segmented_data"
   ]
  },
  {
   "cell_type": "markdown",
   "metadata": {
    "collapsed": false
   },
   "source": [
    "## Create boolean masks for all IDs"
   ]
  },
  {
   "cell_type": "code",
   "execution_count": null,
   "metadata": {
    "ExecuteTime": {
     "end_time": "2023-12-04T15:59:42.365229Z",
     "start_time": "2023-12-04T15:59:15.191751Z"
    },
    "collapsed": false
   },
   "outputs": [],
   "source": [
    "import numpy as np\n",
    "from scipy.ndimage import label\n",
    "import napari\n",
    "\n",
    "segmented_data = events_upscaled\n",
    "ids_to_analyze = [1, 2, 3]\n",
    "\n",
    "# Dictionary to store boolean masks for each ID\n",
    "boolean_masks = {}\n",
    "\n",
    "for specific_id in ids_to_analyze:\n",
    "    # Create and store boolean mask for each ID\n",
    "    boolean_masks[specific_id] = segmented_data == specific_id"
   ]
  },
  {
   "cell_type": "markdown",
   "metadata": {
    "collapsed": false
   },
   "source": [
    "## Labelling of all IDs into segments"
   ]
  },
  {
   "cell_type": "code",
   "execution_count": null,
   "metadata": {
    "ExecuteTime": {
     "end_time": "2023-12-04T15:59:43.514673Z",
     "start_time": "2023-12-04T15:59:42.369008Z"
    },
    "collapsed": false
   },
   "outputs": [],
   "source": [
    "# start the viewer\n",
    "viewer = napari.Viewer()\n",
    "viewer.add_image(stable_fibres[50:-50, ...,0 ], name=\"binned_actin\")\n",
    "viewer.add_labels(events_upscaled, name=\"events_1\")"
   ]
  },
  {
   "cell_type": "markdown",
   "metadata": {
    "collapsed": false
   },
   "source": [
    "### Split it up: 1. First 40 IDs"
   ]
  },
  {
   "cell_type": "code",
   "execution_count": 69,
   "metadata": {},
   "outputs": [
    {
     "data": {
      "text/plain": [
       "array([0, 1, 2])"
      ]
     },
     "execution_count": 69,
     "metadata": {},
     "output_type": "execute_result"
    }
   ],
   "source": [
    "np.unique(events_upscaled)[:3]"
   ]
  },
  {
   "cell_type": "code",
   "execution_count": 72,
   "metadata": {},
   "outputs": [
    {
     "ename": "NameError",
     "evalue": "name 'tp' is not defined",
     "output_type": "error",
     "traceback": [
      "\u001b[1;31m---------------------------------------------------------------------------\u001b[0m",
      "\u001b[1;31mNameError\u001b[0m                                 Traceback (most recent call last)",
      "\u001b[1;32mc:\\Users\\benig\\Documents\\arcospx_movies\\actin_wave_analysis\\arcospx_analysis_nb_finished.ipynb Cell 91\u001b[0m line \u001b[0;36m1\n\u001b[1;32m----> <a href='vscode-notebook-cell:/c%3A/Users/benig/Documents/arcospx_movies/actin_wave_analysis/arcospx_analysis_nb_finished.ipynb#Y213sZmlsZQ%3D%3D?line=0'>1</a>\u001b[0m tp\n",
      "\u001b[1;31mNameError\u001b[0m: name 'tp' is not defined"
     ]
    }
   ],
   "source": [
    "tp"
   ]
  },
  {
   "cell_type": "code",
   "execution_count": 76,
   "metadata": {},
   "outputs": [],
   "source": [
    "import trackpy as tp\n",
    "\n",
    "def track_subclusters_in_id(label_image, target_id) -> pd.DataFrame:\n",
    "    select_image = np.where(label_image == target_id, 1, 0)\n",
    "    labeled_results = [label(frame)[0] for frame in select_image]\n",
    "    stacked_array = np.stack(labeled_results, axis=0)\n",
    "    df_all = []\n",
    "    for idx, e in enumerate(stacked_array):\n",
    "        props = regionprops_table(e, properties=(\"label\", \"area\", \"centroid\", 'intensity_mean'), intensity_image=actin[idx][:, :1160])\n",
    "        df_temp = pd.DataFrame(props)\n",
    "        df_temp[\"frame\"] = idx\n",
    "        df_all.append(df_temp)\n",
    "\n",
    "    df_all = pd.concat(df_all)\n",
    "\n",
    "    df_all = df_all.rename(columns={\"centroid-0\": \"y\", \"centroid-1\": \"x\"})\n",
    "    df_all = tp.link_df(df_all, search_range=10, memory=3, pos_columns=['x', 'y'], t_column='frame', adaptive_stop=5)\n",
    "    return df_all\n"
   ]
  },
  {
   "cell_type": "code",
   "execution_count": 105,
   "metadata": {},
   "outputs": [],
   "source": [
    "def calculate_velocity(group):\n",
    "    # Calculate the differences in position and time\n",
    "    delta_positions = group[['x', 'y']].diff()\n",
    "    delta_time = group['time'].diff()\n",
    "\n",
    "    # Calculate velocity\n",
    "    velocities = delta_positions.div(delta_time, axis=0)\n",
    "\n",
    "    # Calculate the magnitude of velocity\n",
    "    velocities['magnitude'] = (velocities['x']**2 + velocities['y']**2)**0.5\n",
    "\n",
    "    return velocities"
   ]
  },
  {
   "cell_type": "code",
   "execution_count": 81,
   "metadata": {
    "ExecuteTime": {
     "end_time": "2023-12-04T16:00:17.004467Z",
     "start_time": "2023-12-04T15:59:43.513286Z"
    },
    "collapsed": false
   },
   "outputs": [],
   "source": [
    "from joblib import Parallel, delayed\n",
    "\n",
    "ids_to_analyze = np.unique(events_upscaled)\n",
    "\n",
    "# Define a function to process each specific ID\n",
    "def process_id(specific_id):\n",
    "    out = track_subclusters_in_id(events_upscaled, specific_id)\n",
    "    out['wave_id'] = specific_id\n",
    "    return out\n",
    "\n",
    "# List to store the results\n",
    "results = Parallel(n_jobs=1)(delayed(process_id)(specific_id) for specific_id in ids_to_analyze)\n",
    "\n",
    "# Retrieve the results\n",
    "stacked_arrays = results\n"
   ]
  },
  {
   "cell_type": "code",
   "execution_count": 3,
   "metadata": {},
   "outputs": [],
   "source": [
    "import pandas as pd\n",
    "\n",
    "stacked_arrays = pd.read_parquet(\"stacked_arrays.parquet\")"
   ]
  },
  {
   "cell_type": "code",
   "execution_count": null,
   "metadata": {},
   "outputs": [],
   "source": []
  },
  {
   "cell_type": "code",
   "execution_count": 82,
   "metadata": {},
   "outputs": [],
   "source": [
    "stacked_arrays = pd.concat(stacked_arrays)"
   ]
  },
  {
   "cell_type": "code",
   "execution_count": 84,
   "metadata": {},
   "outputs": [],
   "source": [
    "stacked_arrays.to_parquet(\"stacked_arrays.parquet\")"
   ]
  },
  {
   "cell_type": "code",
   "execution_count": 5,
   "metadata": {},
   "outputs": [],
   "source": [
    "stacked_arrays['time'] = stacked_arrays['frame'] * 10"
   ]
  },
  {
   "cell_type": "code",
   "execution_count": 6,
   "metadata": {},
   "outputs": [],
   "source": [
    "def calculate_differences(column):\n",
    "    return column.diff()\n",
    "\n",
    "# Apply the function to each coordinate and time, group by particle_id\n",
    "stacked_arrays['delta_x'] = stacked_arrays.groupby(['wave_id', 'particle'])['x'].transform(calculate_differences)\n",
    "stacked_arrays['delta_y'] = stacked_arrays.groupby(['wave_id', 'particle'])['y'].transform(calculate_differences)\n",
    "stacked_arrays['delta_time'] = stacked_arrays.groupby(['wave_id', 'particle'])['time'].transform(calculate_differences)\n",
    "\n",
    "# Calculate velocity\n",
    "stacked_arrays['velocity_x'] = stacked_arrays['delta_x'] / stacked_arrays['delta_time']\n",
    "stacked_arrays['velocity_y'] = stacked_arrays['delta_y'] / stacked_arrays['delta_time']\n",
    "\n",
    "# Calculate the magnitude of velocity\n",
    "stacked_arrays['velocity_magnitude'] = (stacked_arrays['velocity_x']**2 + stacked_arrays['velocity_y']**2)**0.5\n"
   ]
  },
  {
   "cell_type": "code",
   "execution_count": 163,
   "metadata": {},
   "outputs": [],
   "source": [
    "# Calculate the mean velocity for each particle and wave\n",
    "velocities = stacked_arrays.dropna().groupby(['wave_id']).agg({'velocity_magnitude': 'mean'}).reset_index()"
   ]
  },
  {
   "cell_type": "code",
   "execution_count": 7,
   "metadata": {},
   "outputs": [
    {
     "data": {
      "text/html": [
       "<div>\n",
       "<style scoped>\n",
       "    .dataframe tbody tr th:only-of-type {\n",
       "        vertical-align: middle;\n",
       "    }\n",
       "\n",
       "    .dataframe tbody tr th {\n",
       "        vertical-align: top;\n",
       "    }\n",
       "\n",
       "    .dataframe thead th {\n",
       "        text-align: right;\n",
       "    }\n",
       "</style>\n",
       "<table border=\"1\" class=\"dataframe\">\n",
       "  <thead>\n",
       "    <tr style=\"text-align: right;\">\n",
       "      <th></th>\n",
       "      <th>label</th>\n",
       "      <th>area</th>\n",
       "      <th>y</th>\n",
       "      <th>x</th>\n",
       "      <th>intensity_mean</th>\n",
       "      <th>frame</th>\n",
       "      <th>particle</th>\n",
       "      <th>wave_id</th>\n",
       "      <th>delta_x</th>\n",
       "      <th>delta_y</th>\n",
       "      <th>time</th>\n",
       "      <th>delta_time</th>\n",
       "      <th>velocity_x</th>\n",
       "      <th>velocity_y</th>\n",
       "      <th>velocity_magnitude</th>\n",
       "    </tr>\n",
       "  </thead>\n",
       "  <tbody>\n",
       "    <tr>\n",
       "      <th>0</th>\n",
       "      <td>1</td>\n",
       "      <td>282690.0</td>\n",
       "      <td>272.419580</td>\n",
       "      <td>269.346609</td>\n",
       "      <td>165.757947</td>\n",
       "      <td>0</td>\n",
       "      <td>0</td>\n",
       "      <td>0</td>\n",
       "      <td>NaN</td>\n",
       "      <td>NaN</td>\n",
       "      <td>0</td>\n",
       "      <td>NaN</td>\n",
       "      <td>NaN</td>\n",
       "      <td>NaN</td>\n",
       "      <td>NaN</td>\n",
       "    </tr>\n",
       "    <tr>\n",
       "      <th>0</th>\n",
       "      <td>1</td>\n",
       "      <td>282429.0</td>\n",
       "      <td>272.412574</td>\n",
       "      <td>269.170995</td>\n",
       "      <td>162.826558</td>\n",
       "      <td>1</td>\n",
       "      <td>0</td>\n",
       "      <td>0</td>\n",
       "      <td>-0.175614</td>\n",
       "      <td>-0.007005</td>\n",
       "      <td>10</td>\n",
       "      <td>10.0</td>\n",
       "      <td>-0.017561</td>\n",
       "      <td>-0.000701</td>\n",
       "      <td>0.017575</td>\n",
       "    </tr>\n",
       "    <tr>\n",
       "      <th>0</th>\n",
       "      <td>1</td>\n",
       "      <td>282348.0</td>\n",
       "      <td>272.412215</td>\n",
       "      <td>268.995569</td>\n",
       "      <td>156.292614</td>\n",
       "      <td>2</td>\n",
       "      <td>0</td>\n",
       "      <td>0</td>\n",
       "      <td>-0.175426</td>\n",
       "      <td>-0.000360</td>\n",
       "      <td>20</td>\n",
       "      <td>10.0</td>\n",
       "      <td>-0.017543</td>\n",
       "      <td>-0.000036</td>\n",
       "      <td>0.017543</td>\n",
       "    </tr>\n",
       "    <tr>\n",
       "      <th>0</th>\n",
       "      <td>1</td>\n",
       "      <td>282303.0</td>\n",
       "      <td>272.454714</td>\n",
       "      <td>268.881627</td>\n",
       "      <td>157.080871</td>\n",
       "      <td>3</td>\n",
       "      <td>0</td>\n",
       "      <td>0</td>\n",
       "      <td>-0.113942</td>\n",
       "      <td>0.042499</td>\n",
       "      <td>30</td>\n",
       "      <td>10.0</td>\n",
       "      <td>-0.011394</td>\n",
       "      <td>0.004250</td>\n",
       "      <td>0.012161</td>\n",
       "    </tr>\n",
       "    <tr>\n",
       "      <th>0</th>\n",
       "      <td>1</td>\n",
       "      <td>282618.0</td>\n",
       "      <td>272.337972</td>\n",
       "      <td>268.999682</td>\n",
       "      <td>157.811424</td>\n",
       "      <td>4</td>\n",
       "      <td>0</td>\n",
       "      <td>0</td>\n",
       "      <td>0.118054</td>\n",
       "      <td>-0.116741</td>\n",
       "      <td>40</td>\n",
       "      <td>10.0</td>\n",
       "      <td>0.011805</td>\n",
       "      <td>-0.011674</td>\n",
       "      <td>0.016603</td>\n",
       "    </tr>\n",
       "    <tr>\n",
       "      <th>...</th>\n",
       "      <td>...</td>\n",
       "      <td>...</td>\n",
       "      <td>...</td>\n",
       "      <td>...</td>\n",
       "      <td>...</td>\n",
       "      <td>...</td>\n",
       "      <td>...</td>\n",
       "      <td>...</td>\n",
       "      <td>...</td>\n",
       "      <td>...</td>\n",
       "      <td>...</td>\n",
       "      <td>...</td>\n",
       "      <td>...</td>\n",
       "      <td>...</td>\n",
       "      <td>...</td>\n",
       "    </tr>\n",
       "    <tr>\n",
       "      <th>0</th>\n",
       "      <td>1</td>\n",
       "      <td>333.0</td>\n",
       "      <td>378.189189</td>\n",
       "      <td>306.351351</td>\n",
       "      <td>157.858859</td>\n",
       "      <td>616</td>\n",
       "      <td>0</td>\n",
       "      <td>267</td>\n",
       "      <td>-0.012285</td>\n",
       "      <td>1.098280</td>\n",
       "      <td>6160</td>\n",
       "      <td>10.0</td>\n",
       "      <td>-0.001229</td>\n",
       "      <td>0.109828</td>\n",
       "      <td>0.109835</td>\n",
       "    </tr>\n",
       "    <tr>\n",
       "      <th>0</th>\n",
       "      <td>1</td>\n",
       "      <td>396.0</td>\n",
       "      <td>377.772727</td>\n",
       "      <td>307.477273</td>\n",
       "      <td>160.391414</td>\n",
       "      <td>617</td>\n",
       "      <td>0</td>\n",
       "      <td>267</td>\n",
       "      <td>1.125921</td>\n",
       "      <td>-0.416462</td>\n",
       "      <td>6170</td>\n",
       "      <td>10.0</td>\n",
       "      <td>0.112592</td>\n",
       "      <td>-0.041646</td>\n",
       "      <td>0.120047</td>\n",
       "    </tr>\n",
       "    <tr>\n",
       "      <th>0</th>\n",
       "      <td>1</td>\n",
       "      <td>450.0</td>\n",
       "      <td>378.940000</td>\n",
       "      <td>307.480000</td>\n",
       "      <td>159.037778</td>\n",
       "      <td>618</td>\n",
       "      <td>0</td>\n",
       "      <td>267</td>\n",
       "      <td>0.002727</td>\n",
       "      <td>1.167273</td>\n",
       "      <td>6180</td>\n",
       "      <td>10.0</td>\n",
       "      <td>0.000273</td>\n",
       "      <td>0.116727</td>\n",
       "      <td>0.116728</td>\n",
       "    </tr>\n",
       "    <tr>\n",
       "      <th>0</th>\n",
       "      <td>1</td>\n",
       "      <td>468.0</td>\n",
       "      <td>379.519231</td>\n",
       "      <td>307.346154</td>\n",
       "      <td>154.188034</td>\n",
       "      <td>619</td>\n",
       "      <td>0</td>\n",
       "      <td>267</td>\n",
       "      <td>-0.133846</td>\n",
       "      <td>0.579231</td>\n",
       "      <td>6190</td>\n",
       "      <td>10.0</td>\n",
       "      <td>-0.013385</td>\n",
       "      <td>0.057923</td>\n",
       "      <td>0.059449</td>\n",
       "    </tr>\n",
       "    <tr>\n",
       "      <th>0</th>\n",
       "      <td>1</td>\n",
       "      <td>495.0</td>\n",
       "      <td>379.654545</td>\n",
       "      <td>307.381818</td>\n",
       "      <td>156.721212</td>\n",
       "      <td>620</td>\n",
       "      <td>0</td>\n",
       "      <td>267</td>\n",
       "      <td>0.035664</td>\n",
       "      <td>0.135315</td>\n",
       "      <td>6200</td>\n",
       "      <td>10.0</td>\n",
       "      <td>0.003566</td>\n",
       "      <td>0.013531</td>\n",
       "      <td>0.013994</td>\n",
       "    </tr>\n",
       "  </tbody>\n",
       "</table>\n",
       "<p>12976 rows × 15 columns</p>\n",
       "</div>"
      ],
      "text/plain": [
       "    label      area           y           x  intensity_mean  frame  particle  \\\n",
       "0       1  282690.0  272.419580  269.346609      165.757947      0         0   \n",
       "0       1  282429.0  272.412574  269.170995      162.826558      1         0   \n",
       "0       1  282348.0  272.412215  268.995569      156.292614      2         0   \n",
       "0       1  282303.0  272.454714  268.881627      157.080871      3         0   \n",
       "0       1  282618.0  272.337972  268.999682      157.811424      4         0   \n",
       "..    ...       ...         ...         ...             ...    ...       ...   \n",
       "0       1     333.0  378.189189  306.351351      157.858859    616         0   \n",
       "0       1     396.0  377.772727  307.477273      160.391414    617         0   \n",
       "0       1     450.0  378.940000  307.480000      159.037778    618         0   \n",
       "0       1     468.0  379.519231  307.346154      154.188034    619         0   \n",
       "0       1     495.0  379.654545  307.381818      156.721212    620         0   \n",
       "\n",
       "    wave_id   delta_x   delta_y  time  delta_time  velocity_x  velocity_y  \\\n",
       "0         0       NaN       NaN     0         NaN         NaN         NaN   \n",
       "0         0 -0.175614 -0.007005    10        10.0   -0.017561   -0.000701   \n",
       "0         0 -0.175426 -0.000360    20        10.0   -0.017543   -0.000036   \n",
       "0         0 -0.113942  0.042499    30        10.0   -0.011394    0.004250   \n",
       "0         0  0.118054 -0.116741    40        10.0    0.011805   -0.011674   \n",
       "..      ...       ...       ...   ...         ...         ...         ...   \n",
       "0       267 -0.012285  1.098280  6160        10.0   -0.001229    0.109828   \n",
       "0       267  1.125921 -0.416462  6170        10.0    0.112592   -0.041646   \n",
       "0       267  0.002727  1.167273  6180        10.0    0.000273    0.116727   \n",
       "0       267 -0.133846  0.579231  6190        10.0   -0.013385    0.057923   \n",
       "0       267  0.035664  0.135315  6200        10.0    0.003566    0.013531   \n",
       "\n",
       "    velocity_magnitude  \n",
       "0                  NaN  \n",
       "0             0.017575  \n",
       "0             0.017543  \n",
       "0             0.012161  \n",
       "0             0.016603  \n",
       "..                 ...  \n",
       "0             0.109835  \n",
       "0             0.120047  \n",
       "0             0.116728  \n",
       "0             0.059449  \n",
       "0             0.013994  \n",
       "\n",
       "[12976 rows x 15 columns]"
      ]
     },
     "execution_count": 7,
     "metadata": {},
     "output_type": "execute_result"
    }
   ],
   "source": [
    "stacked_arrays"
   ]
  },
  {
   "cell_type": "code",
   "execution_count": 166,
   "metadata": {},
   "outputs": [
    {
     "data": {
      "text/plain": [
       "0.12874187627531128"
      ]
     },
     "execution_count": 166,
     "metadata": {},
     "output_type": "execute_result"
    }
   ],
   "source": [
    "stacked_arrays.dropna().velocity_magnitude.mean()"
   ]
  },
  {
   "cell_type": "code",
   "execution_count": 167,
   "metadata": {},
   "outputs": [
    {
     "data": {
      "text/plain": [
       "wave_id               123.476923\n",
       "velocity_magnitude      0.121908\n",
       "dtype: float64"
      ]
     },
     "execution_count": 167,
     "metadata": {},
     "output_type": "execute_result"
    }
   ],
   "source": [
    "velocities.mean()"
   ]
  },
  {
   "cell_type": "code",
   "execution_count": 155,
   "metadata": {},
   "outputs": [],
   "source": [
    "stacked_arrays['track_id_uni'] = stacked_arrays['wave_id'].astype(str) + '_' + stacked_arrays['particle'].astype(str)\n",
    "stacked_arrays['track_id_uni'] = stacked_arrays['track_id_uni'].astype('category').cat.codes"
   ]
  },
  {
   "cell_type": "code",
   "execution_count": 156,
   "metadata": {},
   "outputs": [
    {
     "data": {
      "text/plain": [
       "<Tracks layer 'tracks' at 0x17d8dca1310>"
      ]
     },
     "execution_count": 156,
     "metadata": {},
     "output_type": "execute_result"
    }
   ],
   "source": [
    "viewer = napari.Viewer()\n",
    "viewer.add_image(stable_fibres[50:-50, ...,0 ], name=\"actin\")\n",
    "viewer.add_labels(events_upscaled, name=\"events_1\")\n",
    "viewer.add_tracks(stacked_arrays[['track_id_uni', 'frame', 'y', 'x']], properties=stacked_arrays, name=\"tracks\")"
   ]
  },
  {
   "cell_type": "code",
   "execution_count": 106,
   "metadata": {},
   "outputs": [
    {
     "ename": "KeyError",
     "evalue": "\"None of [Index(['x', 'y'], dtype='object')] are in the [index]\"",
     "output_type": "error",
     "traceback": [
      "\u001b[1;31m---------------------------------------------------------------------------\u001b[0m",
      "\u001b[1;31mKeyError\u001b[0m                                  Traceback (most recent call last)",
      "\u001b[1;32mc:\\Users\\benig\\Documents\\arcospx_movies\\actin_wave_analysis\\arcospx_analysis_nb_finished.ipynb Cell 99\u001b[0m line \u001b[0;36m2\n\u001b[0;32m      <a href='vscode-notebook-cell:/c%3A/Users/benig/Documents/arcospx_movies/actin_wave_analysis/arcospx_analysis_nb_finished.ipynb#Y221sZmlsZQ%3D%3D?line=0'>1</a>\u001b[0m \u001b[39m# Apply the function to each group and transform\u001b[39;00m\n\u001b[1;32m----> <a href='vscode-notebook-cell:/c%3A/Users/benig/Documents/arcospx_movies/actin_wave_analysis/arcospx_analysis_nb_finished.ipynb#Y221sZmlsZQ%3D%3D?line=1'>2</a>\u001b[0m velocity_components \u001b[39m=\u001b[39m stacked_arrays\u001b[39m.\u001b[39;49mgroupby([\u001b[39m'\u001b[39;49m\u001b[39mwave_id\u001b[39;49m\u001b[39m'\u001b[39;49m,\u001b[39m'\u001b[39;49m\u001b[39mparticle\u001b[39;49m\u001b[39m'\u001b[39;49m])\u001b[39m.\u001b[39;49mtransform(\u001b[39mlambda\u001b[39;49;00m x: calculate_velocity(x))\n",
      "File \u001b[1;32mc:\\Users\\benig\\miniconda3\\envs\\imageanalysis\\Lib\\site-packages\\pandas\\core\\groupby\\generic.py:1828\u001b[0m, in \u001b[0;36mDataFrameGroupBy.transform\u001b[1;34m(self, func, engine, engine_kwargs, *args, **kwargs)\u001b[0m\n\u001b[0;32m   1825\u001b[0m \u001b[39m@Substitution\u001b[39m(klass\u001b[39m=\u001b[39m\u001b[39m\"\u001b[39m\u001b[39mDataFrame\u001b[39m\u001b[39m\"\u001b[39m, example\u001b[39m=\u001b[39m__examples_dataframe_doc)\n\u001b[0;32m   1826\u001b[0m \u001b[39m@Appender\u001b[39m(_transform_template)\n\u001b[0;32m   1827\u001b[0m \u001b[39mdef\u001b[39;00m \u001b[39mtransform\u001b[39m(\u001b[39mself\u001b[39m, func, \u001b[39m*\u001b[39margs, engine\u001b[39m=\u001b[39m\u001b[39mNone\u001b[39;00m, engine_kwargs\u001b[39m=\u001b[39m\u001b[39mNone\u001b[39;00m, \u001b[39m*\u001b[39m\u001b[39m*\u001b[39mkwargs):\n\u001b[1;32m-> 1828\u001b[0m     \u001b[39mreturn\u001b[39;00m \u001b[39mself\u001b[39;49m\u001b[39m.\u001b[39;49m_transform(\n\u001b[0;32m   1829\u001b[0m         func, \u001b[39m*\u001b[39;49margs, engine\u001b[39m=\u001b[39;49mengine, engine_kwargs\u001b[39m=\u001b[39;49mengine_kwargs, \u001b[39m*\u001b[39;49m\u001b[39m*\u001b[39;49mkwargs\n\u001b[0;32m   1830\u001b[0m     )\n",
      "File \u001b[1;32mc:\\Users\\benig\\miniconda3\\envs\\imageanalysis\\Lib\\site-packages\\pandas\\core\\groupby\\groupby.py:1950\u001b[0m, in \u001b[0;36mGroupBy._transform\u001b[1;34m(self, func, engine, engine_kwargs, *args, **kwargs)\u001b[0m\n\u001b[0;32m   1947\u001b[0m     warn_alias_replacement(\u001b[39mself\u001b[39m, orig_func, func)\n\u001b[0;32m   1949\u001b[0m \u001b[39mif\u001b[39;00m \u001b[39mnot\u001b[39;00m \u001b[39misinstance\u001b[39m(func, \u001b[39mstr\u001b[39m):\n\u001b[1;32m-> 1950\u001b[0m     \u001b[39mreturn\u001b[39;00m \u001b[39mself\u001b[39;49m\u001b[39m.\u001b[39;49m_transform_general(func, engine, engine_kwargs, \u001b[39m*\u001b[39;49margs, \u001b[39m*\u001b[39;49m\u001b[39m*\u001b[39;49mkwargs)\n\u001b[0;32m   1952\u001b[0m \u001b[39melif\u001b[39;00m func \u001b[39mnot\u001b[39;00m \u001b[39min\u001b[39;00m base\u001b[39m.\u001b[39mtransform_kernel_allowlist:\n\u001b[0;32m   1953\u001b[0m     msg \u001b[39m=\u001b[39m \u001b[39mf\u001b[39m\u001b[39m\"\u001b[39m\u001b[39m'\u001b[39m\u001b[39m{\u001b[39;00mfunc\u001b[39m}\u001b[39;00m\u001b[39m'\u001b[39m\u001b[39m is not a valid function name for transform(name)\u001b[39m\u001b[39m\"\u001b[39m\n",
      "File \u001b[1;32mc:\\Users\\benig\\miniconda3\\envs\\imageanalysis\\Lib\\site-packages\\pandas\\core\\groupby\\generic.py:1745\u001b[0m, in \u001b[0;36mDataFrameGroupBy._transform_general\u001b[1;34m(self, func, engine, engine_kwargs, *args, **kwargs)\u001b[0m\n\u001b[0;32m   1743\u001b[0m \u001b[39mobject\u001b[39m\u001b[39m.\u001b[39m\u001b[39m__setattr__\u001b[39m(group, \u001b[39m\"\u001b[39m\u001b[39mname\u001b[39m\u001b[39m\"\u001b[39m, name)\n\u001b[0;32m   1744\u001b[0m \u001b[39mtry\u001b[39;00m:\n\u001b[1;32m-> 1745\u001b[0m     path, res \u001b[39m=\u001b[39m \u001b[39mself\u001b[39;49m\u001b[39m.\u001b[39;49m_choose_path(fast_path, slow_path, group)\n\u001b[0;32m   1746\u001b[0m \u001b[39mexcept\u001b[39;00m \u001b[39mValueError\u001b[39;00m \u001b[39mas\u001b[39;00m err:\n\u001b[0;32m   1747\u001b[0m     \u001b[39m# e.g. test_transform_with_non_scalar_group\u001b[39;00m\n\u001b[0;32m   1748\u001b[0m     msg \u001b[39m=\u001b[39m \u001b[39m\"\u001b[39m\u001b[39mtransform must return a scalar value for each group\u001b[39m\u001b[39m\"\u001b[39m\n",
      "File \u001b[1;32mc:\\Users\\benig\\miniconda3\\envs\\imageanalysis\\Lib\\site-packages\\pandas\\core\\groupby\\generic.py:1847\u001b[0m, in \u001b[0;36mDataFrameGroupBy._choose_path\u001b[1;34m(self, fast_path, slow_path, group)\u001b[0m\n\u001b[0;32m   1845\u001b[0m \u001b[39mdef\u001b[39;00m \u001b[39m_choose_path\u001b[39m(\u001b[39mself\u001b[39m, fast_path: Callable, slow_path: Callable, group: DataFrame):\n\u001b[0;32m   1846\u001b[0m     path \u001b[39m=\u001b[39m slow_path\n\u001b[1;32m-> 1847\u001b[0m     res \u001b[39m=\u001b[39m slow_path(group)\n\u001b[0;32m   1849\u001b[0m     \u001b[39mif\u001b[39;00m \u001b[39mself\u001b[39m\u001b[39m.\u001b[39mngroups \u001b[39m==\u001b[39m \u001b[39m1\u001b[39m:\n\u001b[0;32m   1850\u001b[0m         \u001b[39m# no need to evaluate multiple paths when only\u001b[39;00m\n\u001b[0;32m   1851\u001b[0m         \u001b[39m# a single group exists\u001b[39;00m\n\u001b[0;32m   1852\u001b[0m         \u001b[39mreturn\u001b[39;00m path, res\n",
      "File \u001b[1;32mc:\\Users\\benig\\miniconda3\\envs\\imageanalysis\\Lib\\site-packages\\pandas\\core\\groupby\\generic.py:1840\u001b[0m, in \u001b[0;36mDataFrameGroupBy._define_paths.<locals>.<lambda>\u001b[1;34m(group)\u001b[0m\n\u001b[0;32m   1838\u001b[0m \u001b[39melse\u001b[39;00m:\n\u001b[0;32m   1839\u001b[0m     fast_path \u001b[39m=\u001b[39m \u001b[39mlambda\u001b[39;00m group: func(group, \u001b[39m*\u001b[39margs, \u001b[39m*\u001b[39m\u001b[39m*\u001b[39mkwargs)\n\u001b[1;32m-> 1840\u001b[0m     slow_path \u001b[39m=\u001b[39m \u001b[39mlambda\u001b[39;00m group: group\u001b[39m.\u001b[39;49mapply(\n\u001b[0;32m   1841\u001b[0m         \u001b[39mlambda\u001b[39;49;00m x: func(x, \u001b[39m*\u001b[39;49margs, \u001b[39m*\u001b[39;49m\u001b[39m*\u001b[39;49mkwargs), axis\u001b[39m=\u001b[39;49m\u001b[39mself\u001b[39;49m\u001b[39m.\u001b[39;49maxis\n\u001b[0;32m   1842\u001b[0m     )\n\u001b[0;32m   1843\u001b[0m \u001b[39mreturn\u001b[39;00m fast_path, slow_path\n",
      "File \u001b[1;32mc:\\Users\\benig\\miniconda3\\envs\\imageanalysis\\Lib\\site-packages\\pandas\\core\\frame.py:10034\u001b[0m, in \u001b[0;36mDataFrame.apply\u001b[1;34m(self, func, axis, raw, result_type, args, by_row, **kwargs)\u001b[0m\n\u001b[0;32m  10022\u001b[0m \u001b[39mfrom\u001b[39;00m \u001b[39mpandas\u001b[39;00m\u001b[39m.\u001b[39;00m\u001b[39mcore\u001b[39;00m\u001b[39m.\u001b[39;00m\u001b[39mapply\u001b[39;00m \u001b[39mimport\u001b[39;00m frame_apply\n\u001b[0;32m  10024\u001b[0m op \u001b[39m=\u001b[39m frame_apply(\n\u001b[0;32m  10025\u001b[0m     \u001b[39mself\u001b[39m,\n\u001b[0;32m  10026\u001b[0m     func\u001b[39m=\u001b[39mfunc,\n\u001b[1;32m   (...)\u001b[0m\n\u001b[0;32m  10032\u001b[0m     kwargs\u001b[39m=\u001b[39mkwargs,\n\u001b[0;32m  10033\u001b[0m )\n\u001b[1;32m> 10034\u001b[0m \u001b[39mreturn\u001b[39;00m op\u001b[39m.\u001b[39;49mapply()\u001b[39m.\u001b[39m__finalize__(\u001b[39mself\u001b[39m, method\u001b[39m=\u001b[39m\u001b[39m\"\u001b[39m\u001b[39mapply\u001b[39m\u001b[39m\"\u001b[39m)\n",
      "File \u001b[1;32mc:\\Users\\benig\\miniconda3\\envs\\imageanalysis\\Lib\\site-packages\\pandas\\core\\apply.py:837\u001b[0m, in \u001b[0;36mFrameApply.apply\u001b[1;34m(self)\u001b[0m\n\u001b[0;32m    834\u001b[0m \u001b[39melif\u001b[39;00m \u001b[39mself\u001b[39m\u001b[39m.\u001b[39mraw:\n\u001b[0;32m    835\u001b[0m     \u001b[39mreturn\u001b[39;00m \u001b[39mself\u001b[39m\u001b[39m.\u001b[39mapply_raw()\n\u001b[1;32m--> 837\u001b[0m \u001b[39mreturn\u001b[39;00m \u001b[39mself\u001b[39;49m\u001b[39m.\u001b[39;49mapply_standard()\n",
      "File \u001b[1;32mc:\\Users\\benig\\miniconda3\\envs\\imageanalysis\\Lib\\site-packages\\pandas\\core\\apply.py:963\u001b[0m, in \u001b[0;36mFrameApply.apply_standard\u001b[1;34m(self)\u001b[0m\n\u001b[0;32m    962\u001b[0m \u001b[39mdef\u001b[39;00m \u001b[39mapply_standard\u001b[39m(\u001b[39mself\u001b[39m):\n\u001b[1;32m--> 963\u001b[0m     results, res_index \u001b[39m=\u001b[39m \u001b[39mself\u001b[39;49m\u001b[39m.\u001b[39;49mapply_series_generator()\n\u001b[0;32m    965\u001b[0m     \u001b[39m# wrap results\u001b[39;00m\n\u001b[0;32m    966\u001b[0m     \u001b[39mreturn\u001b[39;00m \u001b[39mself\u001b[39m\u001b[39m.\u001b[39mwrap_results(results, res_index)\n",
      "File \u001b[1;32mc:\\Users\\benig\\miniconda3\\envs\\imageanalysis\\Lib\\site-packages\\pandas\\core\\apply.py:979\u001b[0m, in \u001b[0;36mFrameApply.apply_series_generator\u001b[1;34m(self)\u001b[0m\n\u001b[0;32m    976\u001b[0m \u001b[39mwith\u001b[39;00m option_context(\u001b[39m\"\u001b[39m\u001b[39mmode.chained_assignment\u001b[39m\u001b[39m\"\u001b[39m, \u001b[39mNone\u001b[39;00m):\n\u001b[0;32m    977\u001b[0m     \u001b[39mfor\u001b[39;00m i, v \u001b[39min\u001b[39;00m \u001b[39menumerate\u001b[39m(series_gen):\n\u001b[0;32m    978\u001b[0m         \u001b[39m# ignore SettingWithCopy here in case the user mutates\u001b[39;00m\n\u001b[1;32m--> 979\u001b[0m         results[i] \u001b[39m=\u001b[39m \u001b[39mself\u001b[39;49m\u001b[39m.\u001b[39;49mfunc(v, \u001b[39m*\u001b[39;49m\u001b[39mself\u001b[39;49m\u001b[39m.\u001b[39;49margs, \u001b[39m*\u001b[39;49m\u001b[39m*\u001b[39;49m\u001b[39mself\u001b[39;49m\u001b[39m.\u001b[39;49mkwargs)\n\u001b[0;32m    980\u001b[0m         \u001b[39mif\u001b[39;00m \u001b[39misinstance\u001b[39m(results[i], ABCSeries):\n\u001b[0;32m    981\u001b[0m             \u001b[39m# If we have a view on v, we need to make a copy because\u001b[39;00m\n\u001b[0;32m    982\u001b[0m             \u001b[39m#  series_generator will swap out the underlying data\u001b[39;00m\n\u001b[0;32m    983\u001b[0m             results[i] \u001b[39m=\u001b[39m results[i]\u001b[39m.\u001b[39mcopy(deep\u001b[39m=\u001b[39m\u001b[39mFalse\u001b[39;00m)\n",
      "File \u001b[1;32mc:\\Users\\benig\\miniconda3\\envs\\imageanalysis\\Lib\\site-packages\\pandas\\core\\groupby\\generic.py:1841\u001b[0m, in \u001b[0;36mDataFrameGroupBy._define_paths.<locals>.<lambda>.<locals>.<lambda>\u001b[1;34m(x)\u001b[0m\n\u001b[0;32m   1838\u001b[0m \u001b[39melse\u001b[39;00m:\n\u001b[0;32m   1839\u001b[0m     fast_path \u001b[39m=\u001b[39m \u001b[39mlambda\u001b[39;00m group: func(group, \u001b[39m*\u001b[39margs, \u001b[39m*\u001b[39m\u001b[39m*\u001b[39mkwargs)\n\u001b[0;32m   1840\u001b[0m     slow_path \u001b[39m=\u001b[39m \u001b[39mlambda\u001b[39;00m group: group\u001b[39m.\u001b[39mapply(\n\u001b[1;32m-> 1841\u001b[0m         \u001b[39mlambda\u001b[39;00m x: func(x, \u001b[39m*\u001b[39;49margs, \u001b[39m*\u001b[39;49m\u001b[39m*\u001b[39;49mkwargs), axis\u001b[39m=\u001b[39m\u001b[39mself\u001b[39m\u001b[39m.\u001b[39maxis\n\u001b[0;32m   1842\u001b[0m     )\n\u001b[0;32m   1843\u001b[0m \u001b[39mreturn\u001b[39;00m fast_path, slow_path\n",
      "\u001b[1;32mc:\\Users\\benig\\Documents\\arcospx_movies\\actin_wave_analysis\\arcospx_analysis_nb_finished.ipynb Cell 99\u001b[0m line \u001b[0;36m2\n\u001b[0;32m      <a href='vscode-notebook-cell:/c%3A/Users/benig/Documents/arcospx_movies/actin_wave_analysis/arcospx_analysis_nb_finished.ipynb#Y221sZmlsZQ%3D%3D?line=0'>1</a>\u001b[0m \u001b[39m# Apply the function to each group and transform\u001b[39;00m\n\u001b[1;32m----> <a href='vscode-notebook-cell:/c%3A/Users/benig/Documents/arcospx_movies/actin_wave_analysis/arcospx_analysis_nb_finished.ipynb#Y221sZmlsZQ%3D%3D?line=1'>2</a>\u001b[0m velocity_components \u001b[39m=\u001b[39m stacked_arrays\u001b[39m.\u001b[39mgroupby([\u001b[39m'\u001b[39m\u001b[39mwave_id\u001b[39m\u001b[39m'\u001b[39m,\u001b[39m'\u001b[39m\u001b[39mparticle\u001b[39m\u001b[39m'\u001b[39m])\u001b[39m.\u001b[39mtransform(\u001b[39mlambda\u001b[39;00m x: calculate_velocity(x))\n",
      "\u001b[1;32mc:\\Users\\benig\\Documents\\arcospx_movies\\actin_wave_analysis\\arcospx_analysis_nb_finished.ipynb Cell 99\u001b[0m line \u001b[0;36m3\n\u001b[0;32m      <a href='vscode-notebook-cell:/c%3A/Users/benig/Documents/arcospx_movies/actin_wave_analysis/arcospx_analysis_nb_finished.ipynb#Y221sZmlsZQ%3D%3D?line=0'>1</a>\u001b[0m \u001b[39mdef\u001b[39;00m \u001b[39mcalculate_velocity\u001b[39m(group):\n\u001b[0;32m      <a href='vscode-notebook-cell:/c%3A/Users/benig/Documents/arcospx_movies/actin_wave_analysis/arcospx_analysis_nb_finished.ipynb#Y221sZmlsZQ%3D%3D?line=1'>2</a>\u001b[0m     \u001b[39m# Calculate the differences in position and time\u001b[39;00m\n\u001b[1;32m----> <a href='vscode-notebook-cell:/c%3A/Users/benig/Documents/arcospx_movies/actin_wave_analysis/arcospx_analysis_nb_finished.ipynb#Y221sZmlsZQ%3D%3D?line=2'>3</a>\u001b[0m     delta_positions \u001b[39m=\u001b[39m group[[\u001b[39m'\u001b[39;49m\u001b[39mx\u001b[39;49m\u001b[39m'\u001b[39;49m, \u001b[39m'\u001b[39;49m\u001b[39my\u001b[39;49m\u001b[39m'\u001b[39;49m]]\u001b[39m.\u001b[39mdiff()\n\u001b[0;32m      <a href='vscode-notebook-cell:/c%3A/Users/benig/Documents/arcospx_movies/actin_wave_analysis/arcospx_analysis_nb_finished.ipynb#Y221sZmlsZQ%3D%3D?line=3'>4</a>\u001b[0m     delta_time \u001b[39m=\u001b[39m group[\u001b[39m'\u001b[39m\u001b[39mtime\u001b[39m\u001b[39m'\u001b[39m]\u001b[39m.\u001b[39mdiff()\n\u001b[0;32m      <a href='vscode-notebook-cell:/c%3A/Users/benig/Documents/arcospx_movies/actin_wave_analysis/arcospx_analysis_nb_finished.ipynb#Y221sZmlsZQ%3D%3D?line=5'>6</a>\u001b[0m     \u001b[39m# Calculate velocity\u001b[39;00m\n",
      "File \u001b[1;32mc:\\Users\\benig\\miniconda3\\envs\\imageanalysis\\Lib\\site-packages\\pandas\\core\\series.py:1072\u001b[0m, in \u001b[0;36mSeries.__getitem__\u001b[1;34m(self, key)\u001b[0m\n\u001b[0;32m   1069\u001b[0m     key \u001b[39m=\u001b[39m np\u001b[39m.\u001b[39masarray(key, dtype\u001b[39m=\u001b[39m\u001b[39mbool\u001b[39m)\n\u001b[0;32m   1070\u001b[0m     \u001b[39mreturn\u001b[39;00m \u001b[39mself\u001b[39m\u001b[39m.\u001b[39m_get_rows_with_mask(key)\n\u001b[1;32m-> 1072\u001b[0m \u001b[39mreturn\u001b[39;00m \u001b[39mself\u001b[39;49m\u001b[39m.\u001b[39;49m_get_with(key)\n",
      "File \u001b[1;32mc:\\Users\\benig\\miniconda3\\envs\\imageanalysis\\Lib\\site-packages\\pandas\\core\\series.py:1113\u001b[0m, in \u001b[0;36mSeries._get_with\u001b[1;34m(self, key)\u001b[0m\n\u001b[0;32m   1110\u001b[0m         \u001b[39mreturn\u001b[39;00m \u001b[39mself\u001b[39m\u001b[39m.\u001b[39miloc[key]\n\u001b[0;32m   1112\u001b[0m \u001b[39m# handle the dup indexing case GH#4246\u001b[39;00m\n\u001b[1;32m-> 1113\u001b[0m \u001b[39mreturn\u001b[39;00m \u001b[39mself\u001b[39;49m\u001b[39m.\u001b[39;49mloc[key]\n",
      "File \u001b[1;32mc:\\Users\\benig\\miniconda3\\envs\\imageanalysis\\Lib\\site-packages\\pandas\\core\\indexing.py:1153\u001b[0m, in \u001b[0;36m_LocationIndexer.__getitem__\u001b[1;34m(self, key)\u001b[0m\n\u001b[0;32m   1150\u001b[0m axis \u001b[39m=\u001b[39m \u001b[39mself\u001b[39m\u001b[39m.\u001b[39maxis \u001b[39mor\u001b[39;00m \u001b[39m0\u001b[39m\n\u001b[0;32m   1152\u001b[0m maybe_callable \u001b[39m=\u001b[39m com\u001b[39m.\u001b[39mapply_if_callable(key, \u001b[39mself\u001b[39m\u001b[39m.\u001b[39mobj)\n\u001b[1;32m-> 1153\u001b[0m \u001b[39mreturn\u001b[39;00m \u001b[39mself\u001b[39;49m\u001b[39m.\u001b[39;49m_getitem_axis(maybe_callable, axis\u001b[39m=\u001b[39;49maxis)\n",
      "File \u001b[1;32mc:\\Users\\benig\\miniconda3\\envs\\imageanalysis\\Lib\\site-packages\\pandas\\core\\indexing.py:1382\u001b[0m, in \u001b[0;36m_LocIndexer._getitem_axis\u001b[1;34m(self, key, axis)\u001b[0m\n\u001b[0;32m   1379\u001b[0m     \u001b[39mif\u001b[39;00m \u001b[39mhasattr\u001b[39m(key, \u001b[39m\"\u001b[39m\u001b[39mndim\u001b[39m\u001b[39m\"\u001b[39m) \u001b[39mand\u001b[39;00m key\u001b[39m.\u001b[39mndim \u001b[39m>\u001b[39m \u001b[39m1\u001b[39m:\n\u001b[0;32m   1380\u001b[0m         \u001b[39mraise\u001b[39;00m \u001b[39mValueError\u001b[39;00m(\u001b[39m\"\u001b[39m\u001b[39mCannot index with multidimensional key\u001b[39m\u001b[39m\"\u001b[39m)\n\u001b[1;32m-> 1382\u001b[0m     \u001b[39mreturn\u001b[39;00m \u001b[39mself\u001b[39;49m\u001b[39m.\u001b[39;49m_getitem_iterable(key, axis\u001b[39m=\u001b[39;49maxis)\n\u001b[0;32m   1384\u001b[0m \u001b[39m# nested tuple slicing\u001b[39;00m\n\u001b[0;32m   1385\u001b[0m \u001b[39mif\u001b[39;00m is_nested_tuple(key, labels):\n",
      "File \u001b[1;32mc:\\Users\\benig\\miniconda3\\envs\\imageanalysis\\Lib\\site-packages\\pandas\\core\\indexing.py:1322\u001b[0m, in \u001b[0;36m_LocIndexer._getitem_iterable\u001b[1;34m(self, key, axis)\u001b[0m\n\u001b[0;32m   1319\u001b[0m \u001b[39mself\u001b[39m\u001b[39m.\u001b[39m_validate_key(key, axis)\n\u001b[0;32m   1321\u001b[0m \u001b[39m# A collection of keys\u001b[39;00m\n\u001b[1;32m-> 1322\u001b[0m keyarr, indexer \u001b[39m=\u001b[39m \u001b[39mself\u001b[39;49m\u001b[39m.\u001b[39;49m_get_listlike_indexer(key, axis)\n\u001b[0;32m   1323\u001b[0m \u001b[39mreturn\u001b[39;00m \u001b[39mself\u001b[39m\u001b[39m.\u001b[39mobj\u001b[39m.\u001b[39m_reindex_with_indexers(\n\u001b[0;32m   1324\u001b[0m     {axis: [keyarr, indexer]}, copy\u001b[39m=\u001b[39m\u001b[39mTrue\u001b[39;00m, allow_dups\u001b[39m=\u001b[39m\u001b[39mTrue\u001b[39;00m\n\u001b[0;32m   1325\u001b[0m )\n",
      "File \u001b[1;32mc:\\Users\\benig\\miniconda3\\envs\\imageanalysis\\Lib\\site-packages\\pandas\\core\\indexing.py:1520\u001b[0m, in \u001b[0;36m_LocIndexer._get_listlike_indexer\u001b[1;34m(self, key, axis)\u001b[0m\n\u001b[0;32m   1517\u001b[0m ax \u001b[39m=\u001b[39m \u001b[39mself\u001b[39m\u001b[39m.\u001b[39mobj\u001b[39m.\u001b[39m_get_axis(axis)\n\u001b[0;32m   1518\u001b[0m axis_name \u001b[39m=\u001b[39m \u001b[39mself\u001b[39m\u001b[39m.\u001b[39mobj\u001b[39m.\u001b[39m_get_axis_name(axis)\n\u001b[1;32m-> 1520\u001b[0m keyarr, indexer \u001b[39m=\u001b[39m ax\u001b[39m.\u001b[39;49m_get_indexer_strict(key, axis_name)\n\u001b[0;32m   1522\u001b[0m \u001b[39mreturn\u001b[39;00m keyarr, indexer\n",
      "File \u001b[1;32mc:\\Users\\benig\\miniconda3\\envs\\imageanalysis\\Lib\\site-packages\\pandas\\core\\indexes\\base.py:6114\u001b[0m, in \u001b[0;36mIndex._get_indexer_strict\u001b[1;34m(self, key, axis_name)\u001b[0m\n\u001b[0;32m   6111\u001b[0m \u001b[39melse\u001b[39;00m:\n\u001b[0;32m   6112\u001b[0m     keyarr, indexer, new_indexer \u001b[39m=\u001b[39m \u001b[39mself\u001b[39m\u001b[39m.\u001b[39m_reindex_non_unique(keyarr)\n\u001b[1;32m-> 6114\u001b[0m \u001b[39mself\u001b[39;49m\u001b[39m.\u001b[39;49m_raise_if_missing(keyarr, indexer, axis_name)\n\u001b[0;32m   6116\u001b[0m keyarr \u001b[39m=\u001b[39m \u001b[39mself\u001b[39m\u001b[39m.\u001b[39mtake(indexer)\n\u001b[0;32m   6117\u001b[0m \u001b[39mif\u001b[39;00m \u001b[39misinstance\u001b[39m(key, Index):\n\u001b[0;32m   6118\u001b[0m     \u001b[39m# GH 42790 - Preserve name from an Index\u001b[39;00m\n",
      "File \u001b[1;32mc:\\Users\\benig\\miniconda3\\envs\\imageanalysis\\Lib\\site-packages\\pandas\\core\\indexes\\base.py:6175\u001b[0m, in \u001b[0;36mIndex._raise_if_missing\u001b[1;34m(self, key, indexer, axis_name)\u001b[0m\n\u001b[0;32m   6173\u001b[0m     \u001b[39mif\u001b[39;00m use_interval_msg:\n\u001b[0;32m   6174\u001b[0m         key \u001b[39m=\u001b[39m \u001b[39mlist\u001b[39m(key)\n\u001b[1;32m-> 6175\u001b[0m     \u001b[39mraise\u001b[39;00m \u001b[39mKeyError\u001b[39;00m(\u001b[39mf\u001b[39m\u001b[39m\"\u001b[39m\u001b[39mNone of [\u001b[39m\u001b[39m{\u001b[39;00mkey\u001b[39m}\u001b[39;00m\u001b[39m] are in the [\u001b[39m\u001b[39m{\u001b[39;00maxis_name\u001b[39m}\u001b[39;00m\u001b[39m]\u001b[39m\u001b[39m\"\u001b[39m)\n\u001b[0;32m   6177\u001b[0m not_found \u001b[39m=\u001b[39m \u001b[39mlist\u001b[39m(ensure_index(key)[missing_mask\u001b[39m.\u001b[39mnonzero()[\u001b[39m0\u001b[39m]]\u001b[39m.\u001b[39munique())\n\u001b[0;32m   6178\u001b[0m \u001b[39mraise\u001b[39;00m \u001b[39mKeyError\u001b[39;00m(\u001b[39mf\u001b[39m\u001b[39m\"\u001b[39m\u001b[39m{\u001b[39;00mnot_found\u001b[39m}\u001b[39;00m\u001b[39m not in index\u001b[39m\u001b[39m\"\u001b[39m)\n",
      "\u001b[1;31mKeyError\u001b[0m: \"None of [Index(['x', 'y'], dtype='object')] are in the [index]\""
     ]
    }
   ],
   "source": [
    "# Apply the function to each group and transform\n",
    "velocity_components = stacked_arrays.groupby(['wave_id','particle']).transform(lambda x: calculate_velocity(x))"
   ]
  },
  {
   "cell_type": "code",
   "execution_count": 93,
   "metadata": {},
   "outputs": [
    {
     "data": {
      "text/html": [
       "<div>\n",
       "<style scoped>\n",
       "    .dataframe tbody tr th:only-of-type {\n",
       "        vertical-align: middle;\n",
       "    }\n",
       "\n",
       "    .dataframe tbody tr th {\n",
       "        vertical-align: top;\n",
       "    }\n",
       "\n",
       "    .dataframe thead th {\n",
       "        text-align: right;\n",
       "    }\n",
       "</style>\n",
       "<table border=\"1\" class=\"dataframe\">\n",
       "  <thead>\n",
       "    <tr style=\"text-align: right;\">\n",
       "      <th></th>\n",
       "      <th></th>\n",
       "      <th></th>\n",
       "      <th>x</th>\n",
       "      <th>y</th>\n",
       "      <th>magnitude</th>\n",
       "    </tr>\n",
       "    <tr>\n",
       "      <th>wave_id</th>\n",
       "      <th>particle</th>\n",
       "      <th></th>\n",
       "      <th></th>\n",
       "      <th></th>\n",
       "      <th></th>\n",
       "    </tr>\n",
       "  </thead>\n",
       "  <tbody>\n",
       "    <tr>\n",
       "      <th rowspan=\"5\" valign=\"top\">0</th>\n",
       "      <th rowspan=\"5\" valign=\"top\">0</th>\n",
       "      <th>0</th>\n",
       "      <td>-0.017561</td>\n",
       "      <td>-0.000701</td>\n",
       "      <td>0.017575</td>\n",
       "    </tr>\n",
       "    <tr>\n",
       "      <th>0</th>\n",
       "      <td>-0.017543</td>\n",
       "      <td>-0.000036</td>\n",
       "      <td>0.017543</td>\n",
       "    </tr>\n",
       "    <tr>\n",
       "      <th>0</th>\n",
       "      <td>-0.011394</td>\n",
       "      <td>0.004250</td>\n",
       "      <td>0.012161</td>\n",
       "    </tr>\n",
       "    <tr>\n",
       "      <th>0</th>\n",
       "      <td>0.011805</td>\n",
       "      <td>-0.011674</td>\n",
       "      <td>0.016603</td>\n",
       "    </tr>\n",
       "    <tr>\n",
       "      <th>0</th>\n",
       "      <td>0.006403</td>\n",
       "      <td>-0.005320</td>\n",
       "      <td>0.008325</td>\n",
       "    </tr>\n",
       "    <tr>\n",
       "      <th>...</th>\n",
       "      <th>...</th>\n",
       "      <th>...</th>\n",
       "      <td>...</td>\n",
       "      <td>...</td>\n",
       "      <td>...</td>\n",
       "    </tr>\n",
       "    <tr>\n",
       "      <th rowspan=\"5\" valign=\"top\">267</th>\n",
       "      <th rowspan=\"5\" valign=\"top\">0</th>\n",
       "      <th>0</th>\n",
       "      <td>-0.001229</td>\n",
       "      <td>0.109828</td>\n",
       "      <td>0.109835</td>\n",
       "    </tr>\n",
       "    <tr>\n",
       "      <th>0</th>\n",
       "      <td>0.112592</td>\n",
       "      <td>-0.041646</td>\n",
       "      <td>0.120047</td>\n",
       "    </tr>\n",
       "    <tr>\n",
       "      <th>0</th>\n",
       "      <td>0.000273</td>\n",
       "      <td>0.116727</td>\n",
       "      <td>0.116728</td>\n",
       "    </tr>\n",
       "    <tr>\n",
       "      <th>0</th>\n",
       "      <td>-0.013385</td>\n",
       "      <td>0.057923</td>\n",
       "      <td>0.059449</td>\n",
       "    </tr>\n",
       "    <tr>\n",
       "      <th>0</th>\n",
       "      <td>0.003566</td>\n",
       "      <td>0.013531</td>\n",
       "      <td>0.013994</td>\n",
       "    </tr>\n",
       "  </tbody>\n",
       "</table>\n",
       "<p>12088 rows × 3 columns</p>\n",
       "</div>"
      ],
      "text/plain": [
       "                           x         y  magnitude\n",
       "wave_id particle                                 \n",
       "0       0        0 -0.017561 -0.000701   0.017575\n",
       "                 0 -0.017543 -0.000036   0.017543\n",
       "                 0 -0.011394  0.004250   0.012161\n",
       "                 0  0.011805 -0.011674   0.016603\n",
       "                 0  0.006403 -0.005320   0.008325\n",
       "...                      ...       ...        ...\n",
       "267     0        0 -0.001229  0.109828   0.109835\n",
       "                 0  0.112592 -0.041646   0.120047\n",
       "                 0  0.000273  0.116727   0.116728\n",
       "                 0 -0.013385  0.057923   0.059449\n",
       "                 0  0.003566  0.013531   0.013994\n",
       "\n",
       "[12088 rows x 3 columns]"
      ]
     },
     "execution_count": 93,
     "metadata": {},
     "output_type": "execute_result"
    }
   ],
   "source": [
    "stacked_arrays_velocity"
   ]
  },
  {
   "cell_type": "code",
   "execution_count": 89,
   "metadata": {},
   "outputs": [
    {
     "data": {
      "text/html": [
       "<div>\n",
       "<style scoped>\n",
       "    .dataframe tbody tr th:only-of-type {\n",
       "        vertical-align: middle;\n",
       "    }\n",
       "\n",
       "    .dataframe tbody tr th {\n",
       "        vertical-align: top;\n",
       "    }\n",
       "\n",
       "    .dataframe thead th {\n",
       "        text-align: right;\n",
       "    }\n",
       "</style>\n",
       "<table border=\"1\" class=\"dataframe\">\n",
       "  <thead>\n",
       "    <tr style=\"text-align: right;\">\n",
       "      <th></th>\n",
       "      <th></th>\n",
       "      <th>x</th>\n",
       "      <th>y</th>\n",
       "      <th>magnitude</th>\n",
       "    </tr>\n",
       "    <tr>\n",
       "      <th>particle</th>\n",
       "      <th></th>\n",
       "      <th></th>\n",
       "      <th></th>\n",
       "      <th></th>\n",
       "    </tr>\n",
       "  </thead>\n",
       "  <tbody>\n",
       "    <tr>\n",
       "      <th rowspan=\"5\" valign=\"top\">0</th>\n",
       "      <th>0</th>\n",
       "      <td>-0.017561</td>\n",
       "      <td>-0.000701</td>\n",
       "      <td>0.017575</td>\n",
       "    </tr>\n",
       "    <tr>\n",
       "      <th>0</th>\n",
       "      <td>-0.017543</td>\n",
       "      <td>-0.000036</td>\n",
       "      <td>0.017543</td>\n",
       "    </tr>\n",
       "    <tr>\n",
       "      <th>0</th>\n",
       "      <td>-0.011394</td>\n",
       "      <td>0.004250</td>\n",
       "      <td>0.012161</td>\n",
       "    </tr>\n",
       "    <tr>\n",
       "      <th>0</th>\n",
       "      <td>0.011805</td>\n",
       "      <td>-0.011674</td>\n",
       "      <td>0.016603</td>\n",
       "    </tr>\n",
       "    <tr>\n",
       "      <th>0</th>\n",
       "      <td>0.006403</td>\n",
       "      <td>-0.005320</td>\n",
       "      <td>0.008325</td>\n",
       "    </tr>\n",
       "    <tr>\n",
       "      <th>...</th>\n",
       "      <th>...</th>\n",
       "      <td>...</td>\n",
       "      <td>...</td>\n",
       "      <td>...</td>\n",
       "    </tr>\n",
       "    <tr>\n",
       "      <th rowspan=\"4\" valign=\"top\">150</th>\n",
       "      <th>3</th>\n",
       "      <td>-0.038943</td>\n",
       "      <td>-0.006113</td>\n",
       "      <td>0.039420</td>\n",
       "    </tr>\n",
       "    <tr>\n",
       "      <th>4</th>\n",
       "      <td>-0.287000</td>\n",
       "      <td>0.391333</td>\n",
       "      <td>0.485295</td>\n",
       "    </tr>\n",
       "    <tr>\n",
       "      <th>2</th>\n",
       "      <td>-0.051471</td>\n",
       "      <td>0.025490</td>\n",
       "      <td>0.057437</td>\n",
       "    </tr>\n",
       "    <tr>\n",
       "      <th>2</th>\n",
       "      <td>-0.029085</td>\n",
       "      <td>0.013399</td>\n",
       "      <td>0.032023</td>\n",
       "    </tr>\n",
       "    <tr>\n",
       "      <th>151</th>\n",
       "      <th>3</th>\n",
       "      <td>-0.059879</td>\n",
       "      <td>0.032052</td>\n",
       "      <td>0.067918</td>\n",
       "    </tr>\n",
       "  </tbody>\n",
       "</table>\n",
       "<p>12821 rows × 3 columns</p>\n",
       "</div>"
      ],
      "text/plain": [
       "                   x         y  magnitude\n",
       "particle                                 \n",
       "0        0 -0.017561 -0.000701   0.017575\n",
       "         0 -0.017543 -0.000036   0.017543\n",
       "         0 -0.011394  0.004250   0.012161\n",
       "         0  0.011805 -0.011674   0.016603\n",
       "         0  0.006403 -0.005320   0.008325\n",
       "...              ...       ...        ...\n",
       "150      3 -0.038943 -0.006113   0.039420\n",
       "         4 -0.287000  0.391333   0.485295\n",
       "         2 -0.051471  0.025490   0.057437\n",
       "         2 -0.029085  0.013399   0.032023\n",
       "151      3 -0.059879  0.032052   0.067918\n",
       "\n",
       "[12821 rows x 3 columns]"
      ]
     },
     "execution_count": 89,
     "metadata": {},
     "output_type": "execute_result"
    }
   ],
   "source": [
    "stacked_arrays_velocity"
   ]
  },
  {
   "cell_type": "markdown",
   "metadata": {
    "collapsed": false
   },
   "source": [
    "### Make regionprops table for all IDs in the first batch"
   ]
  },
  {
   "cell_type": "code",
   "execution_count": null,
   "metadata": {
    "ExecuteTime": {
     "end_time": "2023-12-04T16:01:14.898617Z",
     "start_time": "2023-12-04T16:00:17.008569Z"
    },
    "collapsed": false
   },
   "outputs": [],
   "source": [
    "from skimage.measure import regionprops_table\n",
    "import pandas as pd\n",
    "\n",
    "# Assuming 'stacked_arrays' is a dictionary containing stacked arrays for each ID\n",
    "# If not already created, you would need to create it similar to the boolean_masks dictionary\n",
    "# but storing the stacked arrays instead.\n",
    "\n",
    "df_all_ids = {}  # Dictionary to store DataFrames for each ID\n",
    "\n",
    "for specific_id, stacked_array in stacked_arrays.items():\n",
    "    df_temp_list = []\n",
    "    \n",
    "    for idx, e in enumerate(stacked_array):\n",
    "        props = regionprops_table(e, properties=(\"label\", \"area\", \"centroid\", 'intensity_mean'), \n",
    "                                  intensity_image=actin[idx][:, :1160])\n",
    "        df_temp = pd.DataFrame(props)\n",
    "        df_temp[\"frame\"] = idx\n",
    "        df_temp_list.append(df_temp)\n",
    "\n",
    "    # Concatenate all DataFrames for this specific ID\n",
    "    df_all_ids[specific_id] = pd.concat(df_temp_list)\n",
    "\n",
    "    # Rename columns for clarity\n",
    "    df_all_ids[specific_id].rename(columns={\"centroid-0\": \"x\", \"centroid-1\": \"y\", \"label\": \"id\"}, inplace=True)\n",
    "    print(f\"Finished ID {specific_id}\")\n",
    "\n",
    "print(\"done\")"
   ]
  },
  {
   "cell_type": "markdown",
   "metadata": {
    "collapsed": false
   },
   "source": [
    "### Linking of all IDs in the first batch"
   ]
  },
  {
   "cell_type": "code",
   "execution_count": null,
   "metadata": {
    "collapsed": false
   },
   "outputs": [],
   "source": [
    "# Dictionary to store linked DataFrames for each ID\n",
    "linked_dfs = {}\n",
    "\n",
    "for specific_id in range(start_id, min(end_id + 1, total_nbr_of_IDs + 1)):\n",
    "    \n",
    "    if df_all_ids[specific_id].empty:\n",
    "        print(f\"DataFrame for ID {specific_id} is empty.\")\n",
    "        continue  # Skip this ID and continue with the next one\n",
    "    \n",
    "    # Extract relevant columns for the specific ID\n",
    "    trackpy_df = pd.DataFrame(df_all_ids[specific_id][['x', 'y', 'frame']])\n",
    "\n",
    "    # Apply the link_df function\n",
    "    linked_df = link_df(trackpy_df, search_range=10)\n",
    "\n",
    "    # Store the linked DataFrame in the dictionary\n",
    "    linked_dfs[specific_id] = linked_df\n",
    "    print(f\"Finished ID {specific_id}\")\n",
    "    \n",
    "print(\"done\")\n"
   ]
  },
  {
   "cell_type": "markdown",
   "metadata": {
    "collapsed": false
   },
   "source": [
    "### IDs 41-100"
   ]
  },
  {
   "cell_type": "code",
   "execution_count": null,
   "metadata": {
    "ExecuteTime": {
     "end_time": "2023-12-04T16:01:20.272483Z",
     "start_time": "2023-12-04T16:01:17.976354Z"
    },
    "collapsed": false
   },
   "outputs": [],
   "source": [
    "# batch_size = 60  # Number of IDs to process in each batch\n",
    "# \n",
    "# # Define the start and end ID for the current batch\n",
    "# # For the first run, set start_id = 1 and end_id = 40\n",
    "# # For subsequent runs, adjust these values accordingly (e.g., 41-80, 81-120, etc.)\n",
    "# start_id = 40\n",
    "# end_id = start_id + batch_size - 1\n",
    "# \n",
    "# viewer = napari.Viewer()\n",
    "# \n",
    "# for specific_id in range(start_id, min(end_id + 1, total_nbr_of_IDs + 1)):\n",
    "#     boolean_mask = boolean_masks[specific_id]\n",
    "# \n",
    "#     # Apply the label function to each frame in the boolean mask\n",
    "#     labeled_results = [label(frame) for frame in boolean_mask]\n",
    "#     labeled_arrays = [result[0] for result in labeled_results]\n",
    "#     num_features = [result[1] for result in labeled_results]\n",
    "# \n",
    "#     # Stack the labeled arrays along a dimension\n",
    "#     stacked_array = np.stack(labeled_arrays, axis=0)\n",
    "# \n",
    "#     # Add the stacked array as a labeled layer to the viewer\n",
    "#     viewer.add_labels(stacked_array, name=f'labelled_mask_layer_ID_{specific_id}')\n",
    "# \n",
    "#     print(f\"Max number of features for ID {specific_id}: {max(num_features)}\")\n"
   ]
  },
  {
   "cell_type": "code",
   "execution_count": null,
   "metadata": {
    "ExecuteTime": {
     "end_time": "2023-12-04T16:01:20.275496Z",
     "start_time": "2023-12-04T16:01:17.979961Z"
    }
   },
   "outputs": [],
   "source": [
    "import warnings\n",
    "\n",
    "\n",
    "class CameraSetter:\n",
    "    \"\"\"A context manager to adjust viewer camera settings before rendering.\"\"\"\n",
    "\n",
    "    def __init__(self, viewer):\n",
    "        self.viewer = viewer\n",
    "        # get initial settings\n",
    "        self.center = viewer.camera.center\n",
    "        self.zoom = viewer.camera.zoom\n",
    "        self.angles = viewer.camera.angles\n",
    "\n",
    "        self.input_canvas_size = viewer.window.qt_viewer.canvas.size\n",
    "\n",
    "        extent = viewer._sliced_extent_world[:, -2:]\n",
    "        scene_size = (extent[1] - extent[0]) / viewer.window.qt_viewer.canvas.pixel_scale  # adjust for pixel scaling\n",
    "        grid_size = list(viewer.grid.actual_shape(len(viewer.layers)))\n",
    "\n",
    "        # Adjust grid_size if necessary\n",
    "        if len(scene_size) > len(grid_size):\n",
    "            grid_size = [1] * (len(scene_size) - len(grid_size)) + grid_size\n",
    "\n",
    "        # calculate target size i.e the size the canvas should be to fit the whole scene\n",
    "        self.target_size = tuple((scene_size[::-1] / 2 * grid_size[::-1]).astype(int))\n",
    "        self.center = viewer.camera.center\n",
    "        self.zoom = viewer.camera.zoom\n",
    "        self.angles = viewer.camera.angles\n",
    "\n",
    "    # copied from viewer.reset_view and modified without padding\n",
    "    def _center_on_canvas(self):\n",
    "        \"\"\"Reset the camera view.\"\"\"\n",
    "        extent = self.viewer._sliced_extent_world\n",
    "        scene_size = extent[1] - extent[0]\n",
    "        corner = extent[0]\n",
    "        grid_size = list(self.viewer.grid.actual_shape(len(self.viewer.layers)))\n",
    "        if len(scene_size) > len(grid_size):\n",
    "            grid_size = [1] * (len(scene_size) - len(grid_size)) + grid_size\n",
    "        size = np.multiply(scene_size, grid_size)\n",
    "        center = np.add(corner, np.divide(size, 2))[-self.viewer.dims.ndisplay :]\n",
    "        center = [0] * (self.viewer.dims.ndisplay - len(center)) + list(center)\n",
    "        self.viewer.camera.center = center\n",
    "\n",
    "        if np.max(size) == 0:\n",
    "            self.viewer.camera.zoom = np.min(self.viewer._canvas_size)\n",
    "        else:\n",
    "            scale = np.array(size[-2:])\n",
    "            scale[np.isclose(scale, 0)] = 1\n",
    "            self.viewer.camera.zoom = 1 * np.min(np.array(self.viewer._canvas_size) / scale)\n",
    "        self.viewer.camera.angles = (0, 0, 90)\n",
    "\n",
    "    def __enter__(self):\n",
    "        \"\"\"Set up the viewer for rendering.\"\"\"\n",
    "        self.viewer.window.qt_viewer.canvas.size = self.target_size\n",
    "        self._center_on_canvas()\n",
    "\n",
    "    def __exit__(self, exc_type, exc_val, exc_tb):\n",
    "        \"\"\"Reset the viewer after rendering.\"\"\"\n",
    "        self.viewer.window.qt_viewer.canvas.size = self.input_canvas_size\n",
    "        self.viewer.camera.center = self.center\n",
    "        self.viewer.camera.zoom = self.zoom\n",
    "        self.viewer.camera.angles = self.angles\n",
    "\n",
    "\n",
    "def render_as_rgb(viewer, axis: None | int = None):\n",
    "    \"\"\"Render the viewer for a single timepoint.\"\"\"\n",
    "    with CameraSetter(viewer):\n",
    "        if axis is not None:\n",
    "            rgb = []\n",
    "            for i in range(viewer.dims.range[axis][1].astype(int)):\n",
    "                viewer.dims.set_current_step(axis, i)\n",
    "                rendered_img = viewer.window.qt_viewer.canvas.render(alpha=False)\n",
    "                rgb.append(rendered_img)\n",
    "            rendered_img = np.stack(rgb)\n",
    "        else:\n",
    "            rendered_img = viewer.window.qt_viewer.canvas.render(alpha=False)\n",
    "    return rendered_img\n",
    "\n",
    "\n",
    "# Usage\n",
    "rgb = []\n",
    "with warnings.catch_warnings():\n",
    "    warnings.simplefilter(\"ignore\")\n",
    "    rendered_img = render_as_rgb(viewer, 0)"
   ]
  },
  {
   "cell_type": "code",
   "execution_count": null,
   "metadata": {
    "ExecuteTime": {
     "start_time": "2023-12-04T16:01:18.158250Z"
    }
   },
   "outputs": [],
   "source": [
    "import cv2\n",
    "\n",
    "# Read the first image to get the width, height\n",
    "frame = rendered_img[0]\n",
    "h, w, layers = frame.shape\n",
    "\n",
    "# Define the codec and create a VideoWriter object\n",
    "fourcc = cv2.VideoWriter_fourcc(*\"mp4v\")\n",
    "out = cv2.VideoWriter(\"tracked_waves_actin_2.mp4\", fourcc, 60, (w, h))\n",
    "\n",
    "for image in rendered_img:\n",
    "    out.write(cv2.cvtColor(image, cv2.COLOR_RGBA2BGR))  # Write out frame to video\n",
    "\n",
    "# Release everything when the job is finished\n",
    "out.release()\n",
    "cv2.destroyAllWindows()"
   ]
  },
  {
   "cell_type": "code",
   "execution_count": null,
   "metadata": {
    "ExecuteTime": {
     "start_time": "2023-12-04T16:01:18.160669Z"
    }
   },
   "outputs": [],
   "source": [
    "viewer = napari.Viewer()\n",
    "viewer.add_image(actin, colormap=\"gray_r\", name=\"actin\")\n",
    "viewer.add_image(myosin, colormap=\"gray_r\", name=\"myosin\")\n",
    "viewer.add_image(rGBD, colormap=\"gray_r\", name=\"rGBD\")\n",
    "viewer.add_labels(events_upscaled, name=\"events_filtered\")"
   ]
  },
  {
   "cell_type": "code",
   "execution_count": null,
   "metadata": {
    "ExecuteTime": {
     "start_time": "2023-12-04T16:01:18.162412Z"
    }
   },
   "outputs": [],
   "source": [
    "io.imshow(rendered_img)"
   ]
  },
  {
   "cell_type": "code",
   "execution_count": null,
   "metadata": {
    "ExecuteTime": {
     "start_time": "2023-12-04T16:01:18.164314Z"
    }
   },
   "outputs": [],
   "source": [
    "from __future__ import annotations\n",
    "import napari\n",
    "import numpy as np\n",
    "import warnings\n",
    "from skimage import io\n",
    "from magicgui import magicgui\n",
    "from pathlib import Path\n",
    "from typing import Optional\n",
    "\n",
    "viewer = napari.Viewer()\n",
    "\n",
    "class CameraSetter:\n",
    "    \"\"\"A context manager to adjust viewer camera settings before rendering.\"\"\"\n",
    "\n",
    "    def __init__(self, viewer, upsample_factor=1):\n",
    "        self.viewer = viewer\n",
    "        # get initial settings\n",
    "        self.center = viewer.camera.center\n",
    "        self.zoom = viewer.camera.zoom\n",
    "        self.angles = viewer.camera.angles\n",
    "\n",
    "        self.input_canvas_size = viewer.window.qt_viewer.canvas.size\n",
    "\n",
    "        extent = viewer._sliced_extent_world[:, -2:]\n",
    "        scene_size = (extent[1] - extent[0]) / viewer.window.qt_viewer.canvas.pixel_scale * upsample_factor # adjust for pixel scaling\n",
    "        grid_size = list(viewer.grid.actual_shape(len(viewer.layers)))\n",
    "\n",
    "        # Adjust grid_size if necessary\n",
    "        if len(scene_size) > len(grid_size):\n",
    "            grid_size = [1] * (len(scene_size) - len(grid_size)) + grid_size\n",
    "\n",
    "        # calculate target size i.e the size the canvas should be to fit the whole scene\n",
    "        self.target_size = tuple((scene_size[::-1] * grid_size[::-1]).astype(int))\n",
    "        self.center = viewer.camera.center\n",
    "        self.zoom = viewer.camera.zoom\n",
    "        self.angles = viewer.camera.angles\n",
    "\n",
    "    # copied from viewer.reset_view and modified without padding\n",
    "    def _center_on_canvas(self):\n",
    "        \"\"\"Reset the camera view.\"\"\"\n",
    "        extent = self.viewer._sliced_extent_world\n",
    "        scene_size = extent[1] - extent[0]\n",
    "        corner = extent[0]\n",
    "        grid_size = list(self.viewer.grid.actual_shape(len(self.viewer.layers)))\n",
    "        if len(scene_size) > len(grid_size):\n",
    "            grid_size = [1] * (len(scene_size) - len(grid_size)) + grid_size\n",
    "        size = np.multiply(scene_size, grid_size)\n",
    "        center = np.add(corner, np.divide(size, 2))[-self.viewer.dims.ndisplay :]\n",
    "        center = [0] * (self.viewer.dims.ndisplay - len(center)) + list(center)\n",
    "        self.viewer.camera.center = center\n",
    "\n",
    "        if np.max(size) == 0:\n",
    "            self.viewer.camera.zoom = np.min(self.viewer._canvas_size)\n",
    "        else:\n",
    "            scale = np.array(size[-2:])\n",
    "            scale[np.isclose(scale, 0)] = 1\n",
    "            self.viewer.camera.zoom = 1 * np.min(np.array(self.viewer._canvas_size) / scale)\n",
    "        self.viewer.camera.angles = (0, 0, 90)\n",
    "\n",
    "    def __enter__(self):\n",
    "        \"\"\"Set up the viewer for rendering.\"\"\"\n",
    "        self.viewer.window.qt_viewer.canvas.size = self.target_size\n",
    "        self._center_on_canvas()\n",
    "\n",
    "    def __exit__(self, exc_type, exc_val, exc_tb):\n",
    "        \"\"\"Reset the viewer after rendering.\"\"\"\n",
    "        self.viewer.window.qt_viewer.canvas.size = self.input_canvas_size\n",
    "        self.viewer.camera.center = self.center\n",
    "        self.viewer.camera.zoom = self.zoom\n",
    "        self.viewer.camera.angles = self.angles\n",
    "\n",
    "def get_choices(gui):\n",
    "    \"\"\"Return the choices for the axis dropdown.\"\"\"\n",
    "    viewer: napari.Viewer\n",
    "    viewer = napari.current_viewer()\n",
    "    choices = []\n",
    "    for i, axis in enumerate(viewer.dims.axis_labels[:-2]):\n",
    "        if axis is not None:\n",
    "            choices.append(i)\n",
    "    return choices\n",
    "\n",
    "@magicgui(call_button=\"export\", directory={\"mode\": \"d\", \"label\": \"Choose a directory\"}, axis={\"choices\": get_choices}, output_type={\"choices\": [\"tif\", \"mp4\"]})\n",
    "def render_as_rgb(viewer: napari.Viewer, axis: Optional[int], directory=Path(), name: str = \"out\",  output_type = \"mp4\", fps: int = 12, upsample_factor: int = 1):\n",
    "    \"\"\"Render the viewer for a single timepoint.\"\"\"\n",
    "    axis = int(axis) if axis is not None else None\n",
    "    with warnings.catch_warnings():\n",
    "        warnings.simplefilter(\"ignore\")\n",
    "        with CameraSetter(viewer, upsample_factor):\n",
    "            if axis is not None:\n",
    "                rgb = []\n",
    "                for i in range(viewer.dims.range[axis][1].astype(int)):\n",
    "                    viewer.dims.set_current_step(axis, i)\n",
    "                    rendered_img = viewer.window.qt_viewer.canvas.render(alpha=False)\n",
    "                    rgb.append(rendered_img)\n",
    "                rendered_img = np.stack(rgb)\n",
    "            else:\n",
    "                rendered_img = viewer.window.qt_viewer.canvas.render(alpha=False)\n",
    "\n",
    "    outpath = directory.joinpath(f\"{name}.{output_type}\").as_posix()\n",
    "    if output_type == \"tif\":\n",
    "        io.imsave(outpath, rendered_img)\n",
    "    elif output_type == \"mp4\":\n",
    "        if axis is None:\n",
    "            raise ValueError(\"You must specify an axis to export as mp4\")\n",
    "        try:\n",
    "            import cv2\n",
    "        except ImportError:\n",
    "            raise ImportError(\"You must install opencv to export as mp4, try `pip install opencv-python`\")\n",
    "\n",
    "        # Read the first image to get the width, height\n",
    "        frame = rendered_img[0]\n",
    "        h, w, layers = frame.shape\n",
    "\n",
    "        # Define the codec and create a VideoWriter object\n",
    "        fourcc = cv2.VideoWriter_fourcc(*\"mp4v\")\n",
    "        out = cv2.VideoWriter(outpath, fourcc, fps, (w, h))\n",
    "\n",
    "        for image in rendered_img:\n",
    "            out.write(cv2.cvtColor(image, cv2.COLOR_RGBA2BGR))  # Write out frame to video\n",
    "\n",
    "        # Release everything when the job is finished\n",
    "        out.release()\n",
    "        try:\n",
    "            cv2.destroyAllWindows()\n",
    "        except:\n",
    "            print(\"could not close cv2 windows\")\n",
    "\n",
    "\n",
    "if globals().get(\"viewer\") is None:\n",
    "    viewer = napari.Viewer()\n",
    "else:\n",
    "    viewer = globals()[\"viewer\"]\n",
    "\n",
    "viewer.window.add_dock_widget(render_as_rgb, name=\"render as rgb\")\n",
    "viewer.show(block=True)"
   ]
  },
  {
   "cell_type": "code",
   "execution_count": null,
   "metadata": {
    "ExecuteTime": {
     "start_time": "2023-12-04T16:01:18.165585Z"
    }
   },
   "outputs": [],
   "source": []
  }
 ],
 "metadata": {
  "kernelspec": {
   "display_name": "imageanalysis",
   "language": "python",
   "name": "python3"
  },
  "language_info": {
   "codemirror_mode": {
    "name": "ipython",
    "version": 3
   },
   "file_extension": ".py",
   "mimetype": "text/x-python",
   "name": "python",
   "nbconvert_exporter": "python",
   "pygments_lexer": "ipython3",
   "version": "3.11.5"
  }
 },
 "nbformat": 4,
 "nbformat_minor": 2
}
